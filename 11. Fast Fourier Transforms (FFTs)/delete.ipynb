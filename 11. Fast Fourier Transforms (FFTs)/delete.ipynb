{
 "cells": [
  {
   "cell_type": "code",
   "execution_count": 1,
   "metadata": {},
   "outputs": [],
   "source": [
    "import numpy as np\n",
    "import scipy.fftpack\n",
    "import utils as utils"
   ]
  },
  {
   "cell_type": "code",
   "execution_count": 2,
   "metadata": {},
   "outputs": [],
   "source": [
    "def choose_frequencies():\n",
    "    \"\"\"\n",
    "    # provide three frequencies in a range between 1 and 50\n",
    "    :return: [int, int, int]\n",
    "    \"\"\"\n",
    "    # *** TODO provide three frequencies between 1 and 50\n",
    "    freq1 = 1\n",
    "    freq2 = 5\n",
    "    freq3 = 25\n",
    "    # end TODO\n",
    "\n",
    "    return [freq1, freq2, freq3]"
   ]
  },
  {
   "cell_type": "code",
   "execution_count": 4,
   "metadata": {},
   "outputs": [],
   "source": [
    "def add_the_waves(freqs):\n",
    "    \"\"\"\n",
    "    create three sinusoidal waves and one wave that is the sum of the three\n",
    "    :param freqs: [int, int, int]\n",
    "    :return: [np.array, np.array, np.array, np.array]\n",
    "        representing wave1, wave2, wave3, sum of waves\n",
    "        each array contains 500(by default) discrete values for plotting a sinusoidal\n",
    "    \"\"\"\n",
    "    _, _, t = utils.get_wave_timing()\n",
    "    w1, w2, w3 = utils.make_waves(t, freqs)\n",
    "\n",
    "    # TODO sum the waves together to form sum_waves\n",
    "    sum_waves = w1+w2+w3\n",
    "    # end TODO\n",
    "\n",
    "    return [w1, w2, w3, sum_waves]"
   ]
  },
  {
   "cell_type": "code",
   "execution_count": 5,
   "metadata": {},
   "outputs": [],
   "source": [
    "def demo_fft(sum_waves):\n",
    "    num_samples, spacing, _ = utils.get_wave_timing()\n",
    "\n",
    "    # TODO create a Fast Fourier Transform of the waveform using scipy.fftpack.fft\n",
    "    # named 'y_fft'\n",
    "    y_fft = scipy.fftpack.fft(sum_waves)\n",
    "    # end TODO\n",
    "\n",
    "    x_fft = np.linspace(0.0, 1.0/spacing, num_samples)\n",
    "    return x_fft, y_fft"
   ]
  }
 ],
 "metadata": {
  "kernelspec": {
   "display_name": "Python 3",
   "language": "python",
   "name": "python3"
  },
  "language_info": {
   "codemirror_mode": {
    "name": "ipython",
    "version": 3
   },
   "file_extension": ".py",
   "mimetype": "text/x-python",
   "name": "python",
   "nbconvert_exporter": "python",
   "pygments_lexer": "ipython3",
   "version": "3.6.7"
  }
 },
 "nbformat": 4,
 "nbformat_minor": 2
}
