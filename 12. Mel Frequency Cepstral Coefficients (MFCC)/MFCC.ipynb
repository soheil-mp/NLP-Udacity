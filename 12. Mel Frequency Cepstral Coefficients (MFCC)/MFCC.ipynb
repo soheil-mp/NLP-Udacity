{
 "cells": [
  {
   "cell_type": "code",
   "execution_count": 1,
   "metadata": {},
   "outputs": [],
   "source": [
    "from python_speech_features import mfcc\n",
    "import scipy.io.wavfile as wav\n",
    "\n",
    "\n",
    "def wav_to_mfcc(wav_filename, num_cepstrum):\n",
    "    \"\"\" extract MFCC features from a wav file\n",
    "\n",
    "    :param wav_filename: filename with .wav format\n",
    "    :param num_cepstrum: number of cepstrum to return\n",
    "    :return: MFCC features for wav file\n",
    "    \"\"\"\n",
    "    (rate, data) = wav.read(wav_filename)\n",
    "    mfcc_features = mfcc(data, rate, numcep = num_cepstrum)\n",
    "    return mfcc_features"
   ]
  },
  {
   "cell_type": "code",
   "execution_count": null,
   "metadata": {},
   "outputs": [],
   "source": []
  }
 ],
 "metadata": {
  "kernelspec": {
   "display_name": "Python 3",
   "language": "python",
   "name": "python3"
  },
  "language_info": {
   "codemirror_mode": {
    "name": "ipython",
    "version": 3
   },
   "file_extension": ".py",
   "mimetype": "text/x-python",
   "name": "python",
   "nbconvert_exporter": "python",
   "pygments_lexer": "ipython3",
   "version": "3.6.7"
  }
 },
 "nbformat": 4,
 "nbformat_minor": 2
}
