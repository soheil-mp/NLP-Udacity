{
 "cells": [
  {
   "cell_type": "code",
   "execution_count": 3,
   "metadata": {},
   "outputs": [],
   "source": [
    "text = \"As I was waiting, a man came out of a side room, and at a glance I was sure he must be Long John. \\\n",
    "        His left leg was cut off close by the hip, and under the left shoulder he carried a crutch, which \\\n",
    "        he managed with wonderful dexterity, hopping about upon it like a bird. He was very tall and strong, \\\n",
    "        with a face as big as a ham—plain and pale, but intelligent and smiling. Indeed, he seemed in the most \\\n",
    "        cheerful spirits, whistling as he moved about among the tables, with a merry word or a slap on the \\\n",
    "        shoulder for the more favoured of his guests.\""
   ]
  },
  {
   "cell_type": "code",
   "execution_count": 37,
   "metadata": {},
   "outputs": [
    {
     "name": "stdout",
     "output_type": "stream",
     "text": [
      "10 most common words:\n",
      "Word\tCount\n",
      "a\t9\n",
      "he\t6\n",
      "the\t6\n",
      "and\t5\n",
      "as\t4\n",
      "was\t4\n",
      "with\t3\n",
      "i\t2\n",
      "of\t2\n",
      "his\t2\n",
      "\n",
      "10 least common words:\n",
      "Word\tCount\n",
      "tables\t1\n",
      "merry\t1\n",
      "word\t1\n",
      "or\t1\n",
      "slap\t1\n",
      "on\t1\n",
      "for\t1\n",
      "more\t1\n",
      "favoured\t1\n",
      "guests\t1\n"
     ]
    }
   ],
   "source": [
    "\"\"\"Count words.\"\"\"\n",
    "\n",
    "import re\n",
    "\n",
    "def count_words(text):\n",
    "    \"\"\"Count how many times each unique word occurs in text.\"\"\"\n",
    "    counts = dict()  # dictionary of { <word>: <count> } pairs to return\n",
    "    \n",
    "    # TODO: Convert to lowercase\n",
    "    text = text.lower()\n",
    "    \n",
    "    # TODO: Split text into tokens (words), leaving out punctuation\n",
    "    # (Hint: Use regex to split on non-alphanumeric characters)\n",
    "    text = re.sub(r\"[^a-zA-Z0-9]\", \" \", text)\n",
    "    words = text.split()\n",
    "    \n",
    "    # TODO: Aggregate word counts using a dictionary\n",
    "    for w in words:\n",
    "        if w in counts.keys():\n",
    "            counts[w] += 1\n",
    "        else:\n",
    "            counts[w] = 1\n",
    "    \n",
    "    return counts\n",
    "\n",
    "\n",
    "def test_run(text):\n",
    "    \n",
    "    counts = count_words(text)\n",
    "    sorted_counts = sorted(counts.items(), key=lambda pair: pair[1], reverse=True)\n",
    "\n",
    "    print(\"10 most common words:\\nWord\\tCount\")\n",
    "    for word, count in sorted_counts[:10]:\n",
    "        print(\"{}\\t{}\".format(word, count))\n",
    "\n",
    "    print(\"\\n10 least common words:\\nWord\\tCount\")\n",
    "    for word, count in sorted_counts[-10:]:\n",
    "        print(\"{}\\t{}\".format(word, count))\n",
    "\n",
    "\n",
    "if __name__ == \"__main__\":\n",
    "    test_run(text)\n"
   ]
  },
  {
   "cell_type": "code",
   "execution_count": null,
   "metadata": {},
   "outputs": [],
   "source": []
  }
 ],
 "metadata": {
  "kernelspec": {
   "display_name": "Python 3",
   "language": "python",
   "name": "python3"
  },
  "language_info": {
   "codemirror_mode": {
    "name": "ipython",
    "version": 3
   },
   "file_extension": ".py",
   "mimetype": "text/x-python",
   "name": "python",
   "nbconvert_exporter": "python",
   "pygments_lexer": "ipython3",
   "version": "3.6.7"
  }
 },
 "nbformat": 4,
 "nbformat_minor": 2
}
