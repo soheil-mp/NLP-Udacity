{
 "cells": [
  {
   "cell_type": "markdown",
   "metadata": {},
   "source": [
    "# Data preprocessing in NLP\n",
    "\n",
    "If we want to make an inference from given data, we need to preprocess it first. Preprocessing step can be diffrent depending on which type of problem we are trying to solve. For examlpe, if we want to work with image data, the preprocessing is so much diffrent than we we want to work with text data that related to our language.\n",
    "\n",
    "Generally speaking, every NLP dataset can be preprocessed in 5 steps.\n",
    "    1. Lodaing the dataset\n",
    "    2. *Optional Clean the dataset from html tags (only if fetching a website)\n",
    "    3. Normalization\n",
    "    4. Tokenization\n",
    "    5. Remove stop words\n",
    "    6. Stemming and Lemmatization"
   ]
  },
  {
   "cell_type": "markdown",
   "metadata": {},
   "source": [
    "## 1. Loading the data"
   ]
  },
  {
   "cell_type": "markdown",
   "metadata": {},
   "source": [
    "On the first step, we will load our data. There are a lot diffrent formats in dataset, that is why we choose on of many ways. However in here we would like to catch a dataset from webisite."
   ]
  },
  {
   "cell_type": "code",
   "execution_count": 17,
   "metadata": {
    "scrolled": true
   },
   "outputs": [
    {
     "name": "stdout",
     "output_type": "stream",
     "text": [
      "Hieroglyphic writing dates from c. 3000 BC, and is composed of hundreds of symbols. A hieroglyph can represent a word, a sound, or a silent determinative; and the same symbol can serve different purposes in different contexts. Hieroglyphs were a formal script, used on stone monuments and in tombs, that could be as detailed as individual works of art.\n",
      "\n"
     ]
    }
   ],
   "source": [
    "# Load a dataset\n",
    "with open(\"data/hieroglyph.txt\", \"r\") as f:\n",
    "    text = f.read()\n",
    "    \n",
    "print(text)"
   ]
  },
  {
   "cell_type": "markdown",
   "metadata": {},
   "source": [
    "## 2. *Optional Clean the dataset\n",
    "\n",
    "We do this step only if we fetch a website and we have some HTML tags that we really don't want to have. In this particular dataset, we do not need to do that. \n",
    "\n",
    "In case of fetching a website you can use <strong>BeautifulSoup</strong> library to delete HTML tags. And get the actual text."
   ]
  },
  {
   "cell_type": "markdown",
   "metadata": {},
   "source": [
    "## 3. Normalization\n",
    "\n",
    "For normalizing the text, we should take the following steps:the followings:\n",
    "    1. Lowercase the words\n",
    "    2. Remove the punctuations (like \".\", \"?\", \"!\")"
   ]
  },
  {
   "cell_type": "code",
   "execution_count": 18,
   "metadata": {},
   "outputs": [],
   "source": [
    "# Lower case the words\n",
    "text = text.lower()"
   ]
  },
  {
   "cell_type": "code",
   "execution_count": 19,
   "metadata": {},
   "outputs": [
    {
     "name": "stdout",
     "output_type": "stream",
     "text": [
      "hieroglyphic writing dates from c. 3000 bc, and is composed of hundreds of symbols. a hieroglyph can represent a word, a sound, or a silent determinative; and the same symbol can serve different purposes in different contexts. hieroglyphs were a formal script, used on stone monuments and in tombs, that could be as detailed as individual works of art.\n",
      "\n"
     ]
    }
   ],
   "source": [
    "print(text)"
   ]
  },
  {
   "cell_type": "code",
   "execution_count": 20,
   "metadata": {},
   "outputs": [],
   "source": [
    "# Remove all punctuation (in other word keep all alphabets and numbers)\n",
    "import re\n",
    "text = re.sub(r\"[^a-zA-Z0-9]\", \" \", text)"
   ]
  },
  {
   "cell_type": "code",
   "execution_count": 21,
   "metadata": {},
   "outputs": [
    {
     "name": "stdout",
     "output_type": "stream",
     "text": [
      "hieroglyphic writing dates from c  3000 bc  and is composed of hundreds of symbols  a hieroglyph can represent a word  a sound  or a silent determinative  and the same symbol can serve different purposes in different contexts  hieroglyphs were a formal script  used on stone monuments and in tombs  that could be as detailed as individual works of art  \n"
     ]
    }
   ],
   "source": [
    "print(text)"
   ]
  },
  {
   "cell_type": "markdown",
   "metadata": {},
   "source": [
    "## 4. Tokenization\n",
    "\n",
    "On the firth step we will split all the sentences into words."
   ]
  },
  {
   "cell_type": "code",
   "execution_count": 31,
   "metadata": {},
   "outputs": [],
   "source": [
    "# Tokenizing the text\n",
    "from nltk.tokenize import word_tokenize\n",
    "words = word_tokenize(text)"
   ]
  },
  {
   "cell_type": "code",
   "execution_count": 32,
   "metadata": {},
   "outputs": [
    {
     "name": "stdout",
     "output_type": "stream",
     "text": [
      "['hieroglyphic', 'writing', 'dates', 'from', 'c', '3000', 'bc', 'and', 'is', 'composed', 'of', 'hundreds', 'of', 'symbols', 'a', 'hieroglyph', 'can', 'represent', 'a', 'word', 'a', 'sound', 'or', 'a', 'silent', 'determinative', 'and', 'the', 'same', 'symbol', 'can', 'serve', 'different', 'purposes', 'in', 'different', 'contexts', 'hieroglyphs', 'were', 'a', 'formal', 'script', 'used', 'on', 'stone', 'monuments', 'and', 'in', 'tombs', 'that', 'could', 'be', 'as', 'detailed', 'as', 'individual', 'works', 'of', 'art']\n"
     ]
    }
   ],
   "source": [
    "print(words)"
   ]
  },
  {
   "cell_type": "markdown",
   "metadata": {},
   "source": [
    "## 5. Remove stop words\n",
    "\n",
    "In this step, we remove all stop words (such as \"is\", \"our\", \"the\", \"in\", \"at\", etc.) that do not add a lot of meaning to a sentence."
   ]
  },
  {
   "cell_type": "code",
   "execution_count": 35,
   "metadata": {},
   "outputs": [],
   "source": [
    "# Removing stop words\n",
    "from nltk.corpus import stopwords\n",
    "\n",
    "words_ = []\n",
    "for w in words:\n",
    "    if w not in stopwords.words(\"english\"):\n",
    "        words_.append(w)"
   ]
  },
  {
   "cell_type": "code",
   "execution_count": 36,
   "metadata": {},
   "outputs": [
    {
     "name": "stdout",
     "output_type": "stream",
     "text": [
      "['hieroglyphic', 'writing', 'dates', 'c', '3000', 'bc', 'composed', 'hundreds', 'symbols', 'hieroglyph', 'represent', 'word', 'sound', 'silent', 'determinative', 'symbol', 'serve', 'different', 'purposes', 'different', 'contexts', 'hieroglyphs', 'formal', 'script', 'used', 'stone', 'monuments', 'tombs', 'could', 'detailed', 'individual', 'works', 'art']\n"
     ]
    }
   ],
   "source": [
    "print(words_)"
   ]
  },
  {
   "cell_type": "markdown",
   "metadata": {},
   "source": [
    "## 6. Stemming and Lemmatization\n",
    "\n",
    "<strong>Stemming</strong> is the process of reducing a word to its stem or root form. For example, the words \"branching\", \"branches\", and \"branched\" can be redces to \"branch\". This help reduce complexity while retaining the essense of meaning that is carried by words."
   ]
  },
  {
   "cell_type": "code",
   "execution_count": 37,
   "metadata": {},
   "outputs": [],
   "source": [
    "# Stemming\n",
    "from nltk.stem.porter import PorterStemmer\n",
    "stemmed = [PorterStemmer().stem(w) for w in words_]"
   ]
  },
  {
   "cell_type": "code",
   "execution_count": 38,
   "metadata": {},
   "outputs": [
    {
     "name": "stdout",
     "output_type": "stream",
     "text": [
      "['hieroglyph', 'write', 'date', 'c', '3000', 'bc', 'compos', 'hundr', 'symbol', 'hieroglyph', 'repres', 'word', 'sound', 'silent', 'determin', 'symbol', 'serv', 'differ', 'purpos', 'differ', 'context', 'hieroglyph', 'formal', 'script', 'use', 'stone', 'monument', 'tomb', 'could', 'detail', 'individu', 'work', 'art']\n"
     ]
    }
   ],
   "source": [
    "print(stemmed)"
   ]
  },
  {
   "cell_type": "markdown",
   "metadata": {},
   "source": [
    "<strong>Lemmatization</strong> is another technique to reduce words to a normalized form, but in here we use a dictionary for its transfformation. For example, words \"is\", \"was\", \"were\" will be converted to \"be\"."
   ]
  },
  {
   "cell_type": "code",
   "execution_count": 39,
   "metadata": {},
   "outputs": [],
   "source": [
    "# Lemmatizating\n",
    "from nltk.stem.wordnet import WordNetLemmatizer\n",
    "lemmed = [WordNetLemmatizer().lemmatize(w) for w in words_]"
   ]
  },
  {
   "cell_type": "code",
   "execution_count": 40,
   "metadata": {},
   "outputs": [
    {
     "name": "stdout",
     "output_type": "stream",
     "text": [
      "['hieroglyphic', 'writing', 'date', 'c', '3000', 'bc', 'composed', 'hundred', 'symbol', 'hieroglyph', 'represent', 'word', 'sound', 'silent', 'determinative', 'symbol', 'serve', 'different', 'purpose', 'different', 'context', 'hieroglyph', 'formal', 'script', 'used', 'stone', 'monument', 'tomb', 'could', 'detailed', 'individual', 'work', 'art']\n"
     ]
    }
   ],
   "source": [
    "print(lemmed)"
   ]
  },
  {
   "cell_type": "code",
   "execution_count": null,
   "metadata": {},
   "outputs": [],
   "source": []
  }
 ],
 "metadata": {
  "kernelspec": {
   "display_name": "Python 3",
   "language": "python",
   "name": "python3"
  },
  "language_info": {
   "codemirror_mode": {
    "name": "ipython",
    "version": 3
   },
   "file_extension": ".py",
   "mimetype": "text/x-python",
   "name": "python",
   "nbconvert_exporter": "python",
   "pygments_lexer": "ipython3",
   "version": "3.6.7"
  }
 },
 "nbformat": 4,
 "nbformat_minor": 2
}
