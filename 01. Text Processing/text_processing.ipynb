{
 "cells": [
  {
   "cell_type": "markdown",
   "metadata": {},
   "source": [
    "# Text Processing"
   ]
  },
  {
   "cell_type": "markdown",
   "metadata": {},
   "source": [
    "## 1. Capturing Text Data\n",
    "\n",
    "There are 3 diffrent ways for loading the data.\n",
    "\n",
    "### 1.1 Plain Text"
   ]
  },
  {
   "cell_type": "markdown",
   "metadata": {},
   "source": [
    "\n"
   ]
  },
  {
   "cell_type": "markdown",
   "metadata": {},
   "source": [
    "<img src = './assets/plain_texts.png'>"
   ]
  },
  {
   "cell_type": "markdown",
   "metadata": {},
   "source": [
    "\n"
   ]
  },
  {
   "cell_type": "code",
   "execution_count": 2,
   "metadata": {},
   "outputs": [
    {
     "name": "stdout",
     "output_type": "stream",
     "text": [
      "Hieroglyphic writing dates from c. 3000 BC, and is composed of hundreds of symbols. A hieroglyph can represent a word, a sound, or a silent determinative; and the same symbol can serve different purposes in different contexts. Hieroglyphs were a formal script, used on stone monuments and in tombs, that could be as detailed as individual works of art.\n",
      "\n"
     ]
    }
   ],
   "source": [
    "import os\n",
    "\n",
    "# Read in a plain text file\n",
    "with open(os.path.join(\"data\", \"hieroglyph.txt\"), \"r\") as f:\n",
    "    text = f.read()\n",
    "    print(text)"
   ]
  },
  {
   "cell_type": "markdown",
   "metadata": {},
   "source": [
    "\n"
   ]
  },
  {
   "cell_type": "markdown",
   "metadata": {},
   "source": [
    "### 1.2 Tabular Data"
   ]
  },
  {
   "cell_type": "markdown",
   "metadata": {},
   "source": [
    "\n"
   ]
  },
  {
   "cell_type": "markdown",
   "metadata": {},
   "source": [
    "<img src = './assets/tabular_datas.png'>"
   ]
  },
  {
   "cell_type": "markdown",
   "metadata": {},
   "source": [
    "\n"
   ]
  },
  {
   "cell_type": "code",
   "execution_count": 3,
   "metadata": {
    "scrolled": true
   },
   "outputs": [
    {
     "data": {
      "text/html": [
       "<div>\n",
       "<style scoped>\n",
       "    .dataframe tbody tr th:only-of-type {\n",
       "        vertical-align: middle;\n",
       "    }\n",
       "\n",
       "    .dataframe tbody tr th {\n",
       "        vertical-align: top;\n",
       "    }\n",
       "\n",
       "    .dataframe thead th {\n",
       "        text-align: right;\n",
       "    }\n",
       "</style>\n",
       "<table border=\"1\" class=\"dataframe\">\n",
       "  <thead>\n",
       "    <tr style=\"text-align: right;\">\n",
       "      <th></th>\n",
       "      <th>publisher</th>\n",
       "      <th>title</th>\n",
       "    </tr>\n",
       "  </thead>\n",
       "  <tbody>\n",
       "    <tr>\n",
       "      <th>0</th>\n",
       "      <td>Livemint</td>\n",
       "      <td>fed's charles plosser sees high bar for change...</td>\n",
       "    </tr>\n",
       "    <tr>\n",
       "      <th>1</th>\n",
       "      <td>IFA Magazine</td>\n",
       "      <td>us open: stocks fall after fed official hints ...</td>\n",
       "    </tr>\n",
       "    <tr>\n",
       "      <th>2</th>\n",
       "      <td>IFA Magazine</td>\n",
       "      <td>fed risks falling 'behind the curve', charles ...</td>\n",
       "    </tr>\n",
       "    <tr>\n",
       "      <th>3</th>\n",
       "      <td>Moneynews</td>\n",
       "      <td>fed's plosser: nasty weather has curbed job gr...</td>\n",
       "    </tr>\n",
       "    <tr>\n",
       "      <th>4</th>\n",
       "      <td>NASDAQ</td>\n",
       "      <td>plosser: fed may have to accelerate tapering pace</td>\n",
       "    </tr>\n",
       "  </tbody>\n",
       "</table>\n",
       "</div>"
      ],
      "text/plain": [
       "      publisher                                              title\n",
       "0      Livemint  fed's charles plosser sees high bar for change...\n",
       "1  IFA Magazine  us open: stocks fall after fed official hints ...\n",
       "2  IFA Magazine  fed risks falling 'behind the curve', charles ...\n",
       "3     Moneynews  fed's plosser: nasty weather has curbed job gr...\n",
       "4        NASDAQ  plosser: fed may have to accelerate tapering pace"
      ]
     },
     "execution_count": 3,
     "metadata": {},
     "output_type": "execute_result"
    }
   ],
   "source": [
    "import pandas as pd\n",
    "\n",
    "# Extract text column from a dataframe\n",
    "df = pd.read_csv(os.path.join(\"data\", \"news.csv\"))\n",
    "df.head()[['publisher', 'title']]\n",
    "\n",
    "# Convert text column to lowercase\n",
    "df['title'] = df['title'].str.lower()\n",
    "df.head()[['publisher', 'title']]"
   ]
  },
  {
   "cell_type": "markdown",
   "metadata": {},
   "source": [
    "\n"
   ]
  },
  {
   "cell_type": "markdown",
   "metadata": {},
   "source": [
    "### 1.3 Online Resource"
   ]
  },
  {
   "cell_type": "markdown",
   "metadata": {},
   "source": [
    "Online resources are website's API which they usually have a 'json' or 'xml' format, choose accordingly."
   ]
  },
  {
   "cell_type": "markdown",
   "metadata": {},
   "source": [
    "\n"
   ]
  },
  {
   "cell_type": "markdown",
   "metadata": {},
   "source": [
    "<img src = './assets/online_resources.png'>"
   ]
  },
  {
   "cell_type": "markdown",
   "metadata": {},
   "source": [
    "\n"
   ]
  },
  {
   "cell_type": "code",
   "execution_count": 4,
   "metadata": {
    "scrolled": false
   },
   "outputs": [
    {
     "name": "stdout",
     "output_type": "stream",
     "text": [
      "{\n",
      "    \"success\": {\n",
      "        \"total\": 1\n",
      "    },\n",
      "    \"contents\": {\n",
      "        \"quotes\": [\n",
      "            {\n",
      "                \"quote\": \"Successful people appear to be traveling along one continual, successful road. What is not apparent is the perseverance it takes following each defeat to keep you on that road. No one I know of has ever experienced one success after another without defeats, failures, disappointments, and frustrations galore along the way. Learning to overcome those times of agony is what separates the winners from the losers.\",\n",
      "                \"length\": \"412\",\n",
      "                \"author\": \"G. Kingsley Ward\",\n",
      "                \"tags\": [\n",
      "                    \"failure\",\n",
      "                    \"inspire\",\n",
      "                    \"perseverance\",\n",
      "                    \"success\",\n",
      "                    \"winning\"\n",
      "                ],\n",
      "                \"category\": \"inspire\",\n",
      "                \"date\": \"2018-04-23\",\n",
      "                \"permalink\": \"https://theysaidso.com/quote/5dCTjGryXcEf_OQaDIIR4AeF/g-kingsley-ward-successful-people-appear-to-be-traveling-along-one-continual-suc\",\n",
      "                \"title\": \"Inspiring Quote of the day\",\n",
      "                \"background\": \"https://theysaidso.com/img/bgs/man_on_the_mountain.jpg\",\n",
      "                \"id\": \"5dCTjGryXcEf_OQaDIIR4AeF\"\n",
      "            }\n",
      "        ],\n",
      "        \"copyright\": \"2017-19 theysaidso.com\"\n",
      "    }\n",
      "}\n"
     ]
    }
   ],
   "source": [
    "import requests\n",
    "import json\n",
    "# import xml\n",
    "\n",
    "# Fetch data from a REST API\n",
    "r = requests.get(\n",
    "    \"https://quotes.rest/qod.json\")\n",
    "res = r.json()\n",
    "print(json.dumps(res, indent=4))"
   ]
  },
  {
   "cell_type": "code",
   "execution_count": 5,
   "metadata": {},
   "outputs": [
    {
     "name": "stdout",
     "output_type": "stream",
     "text": [
      "Successful people appear to be traveling along one continual, successful road. What is not apparent is the perseverance it takes following each defeat to keep you on that road. No one I know of has ever experienced one success after another without defeats, failures, disappointments, and frustrations galore along the way. Learning to overcome those times of agony is what separates the winners from the losers. \n",
      "-- G. Kingsley Ward\n"
     ]
    }
   ],
   "source": [
    "# Extract relevant object and field\n",
    "q = res[\"contents\"][\"quotes\"][0]\n",
    "print(q[\"quote\"], \"\\n--\", q[\"author\"])"
   ]
  },
  {
   "cell_type": "markdown",
   "metadata": {},
   "source": [
    "\n"
   ]
  },
  {
   "cell_type": "markdown",
   "metadata": {},
   "source": [
    "## 2. Cleaning"
   ]
  },
  {
   "cell_type": "code",
   "execution_count": 6,
   "metadata": {
    "scrolled": true
   },
   "outputs": [
    {
     "name": "stdout",
     "output_type": "stream",
     "text": [
      "<html op=\"news\"><head><meta name=\"referrer\" content=\"origin\"><meta name=\"viewport\" content=\"width=device-width, initial-scale=1.0\"><link rel=\"stylesheet\" type=\"text/css\" href=\"news.css?aWzYZ4rkLUAr1wN52yaW\">\n",
      "            <link rel=\"shortcut icon\" href=\"favicon.ico\">\n",
      "          <link rel=\"alternate\" type=\"application/rss+xml\" title=\"RSS\" href=\"rss\">\n",
      "        <title>Hacker News</title></head><body><center><table id=\"hnmain\" border=\"0\" cellpadding=\"0\" cellspacing=\"0\" width=\"85%\" bgcolor=\"#f6f6ef\">\n",
      "        <tr><td bgcolor=\"#ff6600\"><table border=\"0\" cellpadding=\"0\" cellspacing=\"0\" width=\"100%\" style=\"padding:2px\"><tr><td style=\"width:18px;padding-right:4px\"><a href=\"https://news.ycombinator.com\"><img src=\"y18.gif\" width=\"18\" height=\"18\" style=\"border:1px white solid;\"></a></td>\n",
      "                  <td style=\"line-height:12pt; height:10px;\"><span class=\"pagetop\"><b class=\"hnname\"><a href=\"news\">Hacker News</a></b>\n",
      "              <a href=\"newest\">new</a> | <a href=\"newcomments\">comments</a> | <a href=\"show\">show</a> | <a href=\"ask\">ask</a> | <a href=\"jobs\">jobs</a> | <a href=\"submit\">submit</a>            </span></td><td style=\"text-align:right;padding-right:4px;\"><span class=\"pagetop\">\n",
      "                              <a href=\"login?goto=news\">login</a>\n",
      "                          </span></td>\n",
      "              </tr></table></td></tr>\n",
      "<tr style=\"height:10px\"></tr><tr><td><table border=\"0\" cellpadding=\"0\" cellspacing=\"0\" class=\"itemlist\">\n",
      "              <tr class='athing' id='16899658'>\n",
      "      <td align=\"right\" valign=\"top\" class=\"title\"><span class=\"rank\">1.</span></td>      <td valign=\"top\" class=\"votelinks\"><center><a id='up_16899658' href='vote?id=16899658&amp;how=up&amp;goto=news'><div class='votearrow' title='upvote'></div></a></center></td><td class=\"title\"><a href=\"https://heap.zone/blog/?76\" class=\"storylink\">Bringing Objective-C to the Amiga</a><span class=\"sitebit comhead\"> (<a href=\"from?site=heap.zone\"><span class=\"sitestr\">heap.zone</span></a>)</span></td></tr><tr><td colspan=\"2\"></td><td class=\"subtext\">\n",
      "        <span class=\"score\" id=\"score_16899658\">40 points</span> by <a href=\"user?id=Midar\" class=\"hnuser\">Midar</a> <span class=\"age\"><a href=\"item?id=16899658\">2 hours ago</a></span> <span id=\"unv_16899658\"></span> | <a href=\"hide?id=16899658&amp;goto=news\">hide</a> | <a href=\"item?id=16899658\">20&nbsp;comments</a>              </td></tr>\n",
      "      <tr class=\"spacer\" style=\"height:5px\"></tr>\n",
      "                <tr class='athing' id='16899541'>\n",
      "      <td align=\"right\" valign=\"top\" class=\"title\"><span class=\"rank\">2.</span></td>      <td valign=\"top\" class=\"votelinks\"><center><a id='up_16899541' href='vote?id=16899541&amp;how=up&amp;goto=news'><div class='votearrow' title='upvote'></div></a></center></td><td class=\"title\"><a href=\"https://affordanything.com/is-renting-better-than-buying-should-i-rent-or-buy/\" class=\"storylink\">Renting Is Throwing Money Away  Right?</a><span class=\"sitebit comhead\"> (<a href=\"from?site=affordanything.com\"><span class=\"sitestr\">affordanything.com</span></a>)</span></td></tr><tr><td colspan=\"2\"></td><td class=\"subtext\">\n",
      "        <span class=\"score\" id=\"score_16899541\">44 points</span> by <a href=\"user?id=vinnyglennon\" class=\"hnuser\">vinnyglennon</a> <span class=\"age\"><a href=\"item?id=16899541\">3 hours ago</a></span> <span id=\"unv_16899541\"></span> | <a href=\"hide?id=16899541&amp;goto=news\">hide</a> | <a href=\"item?id=16899541\">12&nbsp;comments</a>              </td></tr>\n",
      "      <tr class=\"spacer\" style=\"height:5px\"></tr>\n",
      "                <tr class='athing' id='16898827'>\n",
      "      <td align=\"right\" valign=\"top\" class=\"title\"><span class=\"rank\">3.</span></td>      <td valign=\"top\" class=\"votelinks\"><center><a id='up_16898827' href='vote?id=16898827&amp;how=up&amp;goto=news'><div class='votearrow' title='upvote'></div></a></center></td><td class=\"title\"><a href=\"https://threadreaderapp.com/thread/987602838594445312.html\" class=\"storylink\">You probably don't need AI/ML. You can make do with well written SQL scripts</a><span class=\"sitebit comhead\"> (<a href=\"from?site=threadreaderapp.com\"><span class=\"sitestr\">threadreaderapp.com</span></a>)</span></td></tr><tr><td colspan=\"2\"></td><td class=\"subtext\">\n",
      "        <span class=\"score\" id=\"score_16898827\">81 points</span> by <a href=\"user?id=passenger\" class=\"hnuser\">passenger</a> <span class=\"age\"><a href=\"item?id=16898827\">5 hours ago</a></span> <span id=\"unv_16898827\"></span> | <a href=\"hide?id=16898827&amp;goto=news\">hide</a> | <a href=\"item?id=16898827\">25&nbsp;comments</a>              </td></tr>\n",
      "      <tr class=\"spacer\" style=\"height:5px\"></tr>\n",
      "                <tr class='athing' id='16897994'>\n",
      "      <td align=\"right\" valign=\"top\" class=\"title\"><span class=\"rank\">4.</span></td>      <td valign=\"top\" class=\"votelinks\"><center><a id='up_16897994' href='vote?id=16897994&amp;how=up&amp;goto=news'><div class='votearrow' title='upvote'></div></a></center></td><td class=\"title\"><a href=\"https://threadreaderapp.com/thread/987266940887535616.html\" class=\"storylink\">A blockchain is a specific set of choices suitable for a narrow set of use-cases</a><span class=\"sitebit comhead\"> (<a href=\"from?site=threadreaderapp.com\"><span class=\"sitestr\">threadreaderapp.com</span></a>)</span></td></tr><tr><td colspan=\"2\"></td><td class=\"subtext\">\n",
      "        <span class=\"score\" id=\"score_16897994\">204 points</span> by <a href=\"user?id=BerislavLopac\" class=\"hnuser\">BerislavLopac</a> <span class=\"age\"><a href=\"item?id=16897994\">8 hours ago</a></span> <span id=\"unv_16897994\"></span> | <a href=\"hide?id=16897994&amp;goto=news\">hide</a> | <a href=\"item?id=16897994\">135&nbsp;comments</a>              </td></tr>\n",
      "      <tr class=\"spacer\" style=\"height:5px\"></tr>\n",
      "                <tr class='athing' id='16899494'>\n",
      "      <td align=\"right\" valign=\"top\" class=\"title\"><span class=\"rank\">5.</span></td>      <td valign=\"top\" class=\"votelinks\"><center><a id='up_16899494' href='vote?id=16899494&amp;how=up&amp;goto=news'><div class='votearrow' title='upvote'></div></a></center></td><td class=\"title\"><a href=\"http://www.spiegel.de/international/world/pedro-domingos-on-the-arms-race-in-artificial-intelligence-a-1203132.html\" class=\"storylink\">Pedro Domingos on the Arms Race in Artificial Intelligence</a><span class=\"sitebit comhead\"> (<a href=\"from?site=spiegel.de\"><span class=\"sitestr\">spiegel.de</span></a>)</span></td></tr><tr><td colspan=\"2\"></td><td class=\"subtext\">\n",
      "        <span class=\"score\" id=\"score_16899494\">44 points</span> by <a href=\"user?id=imartin2k\" class=\"hnuser\">imartin2k</a> <span class=\"age\"><a href=\"item?id=16899494\">3 hours ago</a></span> <span id=\"unv_16899494\"></span> | <a href=\"hide?id=16899494&amp;goto=news\">hide</a> | <a href=\"item?id=16899494\">8&nbsp;comments</a>              </td></tr>\n",
      "      <tr class=\"spacer\" style=\"height:5px\"></tr>\n",
      "                <tr class='athing' id='16896880'>\n",
      "      <td align=\"right\" valign=\"top\" class=\"title\"><span class=\"rank\">6.</span></td>      <td valign=\"top\" class=\"votelinks\"><center><a id='up_16896880' href='vote?id=16896880&amp;how=up&amp;goto=news'><div class='votearrow' title='upvote'></div></a></center></td><td class=\"title\"><a href=\"http://nautil.us/issue/28/2050/the-book-no-one-read\" class=\"storylink\">Why Stanislaw Lem’s futurism deserves attention (2015)</a><span class=\"sitebit comhead\"> (<a href=\"from?site=nautil.us\"><span class=\"sitestr\">nautil.us</span></a>)</span></td></tr><tr><td colspan=\"2\"></td><td class=\"subtext\">\n",
      "        <span class=\"score\" id=\"score_16896880\">191 points</span> by <a href=\"user?id=dnetesn\" class=\"hnuser\">dnetesn</a> <span class=\"age\"><a href=\"item?id=16896880\">11 hours ago</a></span> <span id=\"unv_16896880\"></span> | <a href=\"hide?id=16896880&amp;goto=news\">hide</a> | <a href=\"item?id=16896880\">38&nbsp;comments</a>              </td></tr>\n",
      "      <tr class=\"spacer\" style=\"height:5px\"></tr>\n",
      "                <tr class='athing' id='16896536'>\n",
      "      <td align=\"right\" valign=\"top\" class=\"title\"><span class=\"rank\">7.</span></td>      <td valign=\"top\" class=\"votelinks\"><center><a id='up_16896536' href='vote?id=16896536&amp;how=up&amp;goto=news'><div class='votearrow' title='upvote'></div></a></center></td><td class=\"title\"><a href=\"http://www.swansontec.com/sregisters.html\" class=\"storylink\">The Art of Picking Intel Registers (2003)</a><span class=\"sitebit comhead\"> (<a href=\"from?site=swansontec.com\"><span class=\"sitestr\">swansontec.com</span></a>)</span></td></tr><tr><td colspan=\"2\"></td><td class=\"subtext\">\n",
      "        <span class=\"score\" id=\"score_16896536\">27 points</span> by <a href=\"user?id=Tomte\" class=\"hnuser\">Tomte</a> <span class=\"age\"><a href=\"item?id=16896536\">4 hours ago</a></span> <span id=\"unv_16896536\"></span> | <a href=\"hide?id=16896536&amp;goto=news\">hide</a> | <a href=\"item?id=16896536\">9&nbsp;comments</a>              </td></tr>\n",
      "      <tr class=\"spacer\" style=\"height:5px\"></tr>\n",
      "                <tr class='athing' id='16897061'>\n",
      "      <td align=\"right\" valign=\"top\" class=\"title\"><span class=\"rank\">8.</span></td>      <td valign=\"top\" class=\"votelinks\"><center><a id='up_16897061' href='vote?id=16897061&amp;how=up&amp;goto=news'><div class='votearrow' title='upvote'></div></a></center></td><td class=\"title\"><a href=\"http://seriot.ch/parsing_json.php\" class=\"storylink\">Parsing JSON is a Minefield</a><span class=\"sitebit comhead\"> (<a href=\"from?site=seriot.ch\"><span class=\"sitestr\">seriot.ch</span></a>)</span></td></tr><tr><td colspan=\"2\"></td><td class=\"subtext\">\n",
      "        <span class=\"score\" id=\"score_16897061\">229 points</span> by <a href=\"user?id=moks\" class=\"hnuser\">moks</a> <span class=\"age\"><a href=\"item?id=16897061\">10 hours ago</a></span> <span id=\"unv_16897061\"></span> | <a href=\"hide?id=16897061&amp;goto=news\">hide</a> | <a href=\"item?id=16897061\">167&nbsp;comments</a>              </td></tr>\n",
      "      <tr class=\"spacer\" style=\"height:5px\"></tr>\n",
      "                <tr class='athing' id='16895578'>\n",
      "      <td align=\"right\" valign=\"top\" class=\"title\"><span class=\"rank\">9.</span></td>      <td valign=\"top\" class=\"votelinks\"><center><a id='up_16895578' href='vote?id=16895578&amp;how=up&amp;goto=news'><div class='votearrow' title='upvote'></div></a></center></td><td class=\"title\"><a href=\"https://plus.maths.org/content/bekenstein\" class=\"storylink\">The limits of information (2014)</a><span class=\"sitebit comhead\"> (<a href=\"from?site=maths.org\"><span class=\"sitestr\">maths.org</span></a>)</span></td></tr><tr><td colspan=\"2\"></td><td class=\"subtext\">\n",
      "        <span class=\"score\" id=\"score_16895578\">29 points</span> by <a href=\"user?id=whitecream\" class=\"hnuser\">whitecream</a> <span class=\"age\"><a href=\"item?id=16895578\">6 hours ago</a></span> <span id=\"unv_16895578\"></span> | <a href=\"hide?id=16895578&amp;goto=news\">hide</a> | <a href=\"item?id=16895578\">discuss</a>              </td></tr>\n",
      "      <tr class=\"spacer\" style=\"height:5px\"></tr>\n",
      "                <tr class='athing' id='16894733'>\n",
      "      <td align=\"right\" valign=\"top\" class=\"title\"><span class=\"rank\">10.</span></td>      <td valign=\"top\" class=\"votelinks\"><center><a id='up_16894733' href='vote?id=16894733&amp;how=up&amp;goto=news'><div class='votearrow' title='upvote'></div></a></center></td><td class=\"title\"><a href=\"https://blog.jez.io/union-types-flow-reason/\" class=\"storylink\">Union Types in Flow and Reason</a><span class=\"sitebit comhead\"> (<a href=\"from?site=jez.io\"><span class=\"sitestr\">jez.io</span></a>)</span></td></tr><tr><td colspan=\"2\"></td><td class=\"subtext\">\n",
      "        <span class=\"score\" id=\"score_16894733\">45 points</span> by <a href=\"user?id=z1mm32m4n\" class=\"hnuser\">z1mm32m4n</a> <span class=\"age\"><a href=\"item?id=16894733\">6 hours ago</a></span> <span id=\"unv_16894733\"></span> | <a href=\"hide?id=16894733&amp;goto=news\">hide</a> | <a href=\"item?id=16894733\">9&nbsp;comments</a>              </td></tr>\n",
      "      <tr class=\"spacer\" style=\"height:5px\"></tr>\n",
      "                <tr class='athing' id='16897729'>\n",
      "      <td align=\"right\" valign=\"top\" class=\"title\"><span class=\"rank\">11.</span></td>      <td valign=\"top\" class=\"votelinks\"><center><a id='up_16897729' href='vote?id=16897729&amp;how=up&amp;goto=news'><div class='votearrow' title='upvote'></div></a></center></td><td class=\"title\"><a href=\"http://willcrichton.net/notes/programming-in-the-debugger/\" class=\"storylink\">Programming in the Debugger</a><span class=\"sitebit comhead\"> (<a href=\"from?site=willcrichton.net\"><span class=\"sitestr\">willcrichton.net</span></a>)</span></td></tr><tr><td colspan=\"2\"></td><td class=\"subtext\">\n",
      "        <span class=\"score\" id=\"score_16897729\">50 points</span> by <a href=\"user?id=wcrichton\" class=\"hnuser\">wcrichton</a> <span class=\"age\"><a href=\"item?id=16897729\">8 hours ago</a></span> <span id=\"unv_16897729\"></span> | <a href=\"hide?id=16897729&amp;goto=news\">hide</a> | <a href=\"item?id=16897729\">27&nbsp;comments</a>              </td></tr>\n",
      "      <tr class=\"spacer\" style=\"height:5px\"></tr>\n",
      "                <tr class='athing' id='16897606'>\n",
      "      <td align=\"right\" valign=\"top\" class=\"title\"><span class=\"rank\">12.</span></td>      <td valign=\"top\" class=\"votelinks\"><center><a id='up_16897606' href='vote?id=16897606&amp;how=up&amp;goto=news'><div class='votearrow' title='upvote'></div></a></center></td><td class=\"title\"><a href=\"https://fivethirtyeight.com/features/everyone-wants-to-go-home-during-extra-innings-maybe-even-the-umps/\" class=\"storylink\">Everyone Wants to Go Home During Extra Innings – Maybe Even the Umps</a><span class=\"sitebit comhead\"> (<a href=\"from?site=fivethirtyeight.com\"><span class=\"sitestr\">fivethirtyeight.com</span></a>)</span></td></tr><tr><td colspan=\"2\"></td><td class=\"subtext\">\n",
      "        <span class=\"score\" id=\"score_16897606\">64 points</span> by <a href=\"user?id=wglb\" class=\"hnuser\">wglb</a> <span class=\"age\"><a href=\"item?id=16897606\">9 hours ago</a></span> <span id=\"unv_16897606\"></span> | <a href=\"hide?id=16897606&amp;goto=news\">hide</a> | <a href=\"item?id=16897606\">63&nbsp;comments</a>              </td></tr>\n",
      "      <tr class=\"spacer\" style=\"height:5px\"></tr>\n",
      "                <tr class='athing' id='16897003'>\n",
      "      <td align=\"right\" valign=\"top\" class=\"title\"><span class=\"rank\">13.</span></td>      <td valign=\"top\" class=\"votelinks\"><center><a id='up_16897003' href='vote?id=16897003&amp;how=up&amp;goto=news'><div class='votearrow' title='upvote'></div></a></center></td><td class=\"title\"><a href=\"https://about.gitlab.com/2018/04/22/gitlab-10-7-released/\" class=\"storylink\">Gitlab 10.7 Released</a><span class=\"sitebit comhead\"> (<a href=\"from?site=gitlab.com\"><span class=\"sitestr\">gitlab.com</span></a>)</span></td></tr><tr><td colspan=\"2\"></td><td class=\"subtext\">\n",
      "        <span class=\"score\" id=\"score_16897003\">224 points</span> by <a href=\"user?id=jbergstroem\" class=\"hnuser\">jbergstroem</a> <span class=\"age\"><a href=\"item?id=16897003\">10 hours ago</a></span> <span id=\"unv_16897003\"></span> | <a href=\"hide?id=16897003&amp;goto=news\">hide</a> | <a href=\"item?id=16897003\">66&nbsp;comments</a>              </td></tr>\n",
      "      <tr class=\"spacer\" style=\"height:5px\"></tr>\n",
      "                <tr class='athing' id='16899905'>\n",
      "      <td align=\"right\" valign=\"top\" class=\"title\"><span class=\"rank\">14.</span></td>      <td valign=\"top\" class=\"votelinks\"><center><a id='up_16899905' href='vote?id=16899905&amp;how=up&amp;goto=news'><div class='votearrow' title='upvote'></div></a></center></td><td class=\"title\"><a href=\"http://slatestarcodex.com/2014/11/21/the-categories-were-made-for-man-not-man-for-the-categories/\" class=\"storylink\">The Categories Were Made for Man, Not Man for the Categories</a><span class=\"sitebit comhead\"> (<a href=\"from?site=slatestarcodex.com\"><span class=\"sitestr\">slatestarcodex.com</span></a>)</span></td></tr><tr><td colspan=\"2\"></td><td class=\"subtext\">\n",
      "        <span class=\"score\" id=\"score_16899905\">23 points</span> by <a href=\"user?id=gmays\" class=\"hnuser\">gmays</a> <span class=\"age\"><a href=\"item?id=16899905\">1 hour ago</a></span> <span id=\"unv_16899905\"></span> | <a href=\"hide?id=16899905&amp;goto=news\">hide</a> | <a href=\"item?id=16899905\">9&nbsp;comments</a>              </td></tr>\n",
      "      <tr class=\"spacer\" style=\"height:5px\"></tr>\n",
      "                <tr class='athing' id='16897216'>\n",
      "      <td align=\"right\" valign=\"top\" class=\"title\"><span class=\"rank\">15.</span></td>      <td valign=\"top\" class=\"votelinks\"><center><a id='up_16897216' href='vote?id=16897216&amp;how=up&amp;goto=news'><div class='votearrow' title='upvote'></div></a></center></td><td class=\"title\"><a href=\"https://www.nytimes.com/2017/09/18/opinion/libraries-affordable-housing.html\" class=\"storylink\">Libraries Can Be More Than Just Books (2017)</a><span class=\"sitebit comhead\"> (<a href=\"from?site=nytimes.com\"><span class=\"sitestr\">nytimes.com</span></a>)</span></td></tr><tr><td colspan=\"2\"></td><td class=\"subtext\">\n",
      "        <span class=\"score\" id=\"score_16897216\">32 points</span> by <a href=\"user?id=Tomte\" class=\"hnuser\">Tomte</a> <span class=\"age\"><a href=\"item?id=16897216\">8 hours ago</a></span> <span id=\"unv_16897216\"></span> | <a href=\"hide?id=16897216&amp;goto=news\">hide</a> | <a href=\"item?id=16897216\">12&nbsp;comments</a>              </td></tr>\n",
      "      <tr class=\"spacer\" style=\"height:5px\"></tr>\n",
      "                <tr class='athing' id='16894835'>\n",
      "      <td align=\"right\" valign=\"top\" class=\"title\"><span class=\"rank\">16.</span></td>      <td valign=\"top\" class=\"votelinks\"><center><a id='up_16894835' href='vote?id=16894835&amp;how=up&amp;goto=news'><div class='votearrow' title='upvote'></div></a></center></td><td class=\"title\"><a href=\"https://www.atlasobscura.com/articles/ansel-adams-mystery-astronomy\" class=\"storylink\">Solved: A Decades-Old Ansel Adams Mystery</a><span class=\"sitebit comhead\"> (<a href=\"from?site=atlasobscura.com\"><span class=\"sitestr\">atlasobscura.com</span></a>)</span></td></tr><tr><td colspan=\"2\"></td><td class=\"subtext\">\n",
      "        <span class=\"score\" id=\"score_16894835\">43 points</span> by <a href=\"user?id=sverige\" class=\"hnuser\">sverige</a> <span class=\"age\"><a href=\"item?id=16894835\">9 hours ago</a></span> <span id=\"unv_16894835\"></span> | <a href=\"hide?id=16894835&amp;goto=news\">hide</a> | <a href=\"item?id=16894835\">1&nbsp;comment</a>              </td></tr>\n",
      "      <tr class=\"spacer\" style=\"height:5px\"></tr>\n",
      "                <tr class='athing' id='16897654'>\n",
      "      <td align=\"right\" valign=\"top\" class=\"title\"><span class=\"rank\">17.</span></td>      <td valign=\"top\" class=\"votelinks\"><center><a id='up_16897654' href='vote?id=16897654&amp;how=up&amp;goto=news'><div class='votearrow' title='upvote'></div></a></center></td><td class=\"title\"><a href=\"https://towardsdatascience.com/memory-attention-sequences-37456d271992\" class=\"storylink\">Memory, attention, sequences</a><span class=\"sitebit comhead\"> (<a href=\"from?site=towardsdatascience.com\"><span class=\"sitestr\">towardsdatascience.com</span></a>)</span></td></tr><tr><td colspan=\"2\"></td><td class=\"subtext\">\n",
      "        <span class=\"score\" id=\"score_16897654\">16 points</span> by <a href=\"user?id=jonbaer\" class=\"hnuser\">jonbaer</a> <span class=\"age\"><a href=\"item?id=16897654\">5 hours ago</a></span> <span id=\"unv_16897654\"></span> | <a href=\"hide?id=16897654&amp;goto=news\">hide</a> | <a href=\"item?id=16897654\">discuss</a>              </td></tr>\n",
      "      <tr class=\"spacer\" style=\"height:5px\"></tr>\n",
      "                <tr class='athing' id='16896899'>\n",
      "      <td align=\"right\" valign=\"top\" class=\"title\"><span class=\"rank\">18.</span></td>      <td valign=\"top\" class=\"votelinks\"><center><a id='up_16896899' href='vote?id=16896899&amp;how=up&amp;goto=news'><div class='votearrow' title='upvote'></div></a></center></td><td class=\"title\"><a href=\"https://blog.petrzemek.net/2018/04/22/on-incomplete-http-reads-and-the-requests-library-in-python/\" class=\"storylink\">On incomplete HTTP reads and the requests library in Python</a><span class=\"sitebit comhead\"> (<a href=\"from?site=petrzemek.net\"><span class=\"sitestr\">petrzemek.net</span></a>)</span></td></tr><tr><td colspan=\"2\"></td><td class=\"subtext\">\n",
      "        <span class=\"score\" id=\"score_16896899\">59 points</span> by <a href=\"user?id=s3rvac\" class=\"hnuser\">s3rvac</a> <span class=\"age\"><a href=\"item?id=16896899\">11 hours ago</a></span> <span id=\"unv_16896899\"></span> | <a href=\"hide?id=16896899&amp;goto=news\">hide</a> | <a href=\"item?id=16896899\">18&nbsp;comments</a>              </td></tr>\n",
      "      <tr class=\"spacer\" style=\"height:5px\"></tr>\n",
      "                <tr class='athing' id='16898200'>\n",
      "      <td align=\"right\" valign=\"top\" class=\"title\"><span class=\"rank\">19.</span></td>      <td valign=\"top\" class=\"votelinks\"><center><a id='up_16898200' href='vote?id=16898200&amp;how=up&amp;goto=news'><div class='votearrow' title='upvote'></div></a></center></td><td class=\"title\"><a href=\"https://www.bloomberg.com/view/articles/2018-04-18/growing-midsize-cities-like-boise-could-replace-urban-future?cmpid%3D=socialflow-twitter-view&amp;utm_content=view&amp;utm_source=twitter&amp;utm_campaign=socialflow-organic&amp;utm_medium=social\" class=\"storylink\">Why Invest in Cities? There's Always Another Boise</a><span class=\"sitebit comhead\"> (<a href=\"from?site=bloomberg.com\"><span class=\"sitestr\">bloomberg.com</span></a>)</span></td></tr><tr><td colspan=\"2\"></td><td class=\"subtext\">\n",
      "        <span class=\"score\" id=\"score_16898200\">102 points</span> by <a href=\"user?id=jseliger\" class=\"hnuser\">jseliger</a> <span class=\"age\"><a href=\"item?id=16898200\">7 hours ago</a></span> <span id=\"unv_16898200\"></span> | <a href=\"hide?id=16898200&amp;goto=news\">hide</a> | <a href=\"item?id=16898200\">161&nbsp;comments</a>              </td></tr>\n",
      "      <tr class=\"spacer\" style=\"height:5px\"></tr>\n",
      "                <tr class='athing' id='16896885'>\n",
      "      <td align=\"right\" valign=\"top\" class=\"title\"><span class=\"rank\">20.</span></td>      <td valign=\"top\" class=\"votelinks\"><center><a id='up_16896885' href='vote?id=16896885&amp;how=up&amp;goto=news'><div class='votearrow' title='upvote'></div></a></center></td><td class=\"title\"><a href=\"https://phys.org/news/2018-04-facebook-scrutiny-google.html\" class=\"storylink\">After Facebook scrutiny, is Google next?</a><span class=\"sitebit comhead\"> (<a href=\"from?site=phys.org\"><span class=\"sitestr\">phys.org</span></a>)</span></td></tr><tr><td colspan=\"2\"></td><td class=\"subtext\">\n",
      "        <span class=\"score\" id=\"score_16896885\">248 points</span> by <a href=\"user?id=dnetesn\" class=\"hnuser\">dnetesn</a> <span class=\"age\"><a href=\"item?id=16896885\">11 hours ago</a></span> <span id=\"unv_16896885\"></span> | <a href=\"hide?id=16896885&amp;goto=news\">hide</a> | <a href=\"item?id=16896885\">208&nbsp;comments</a>              </td></tr>\n",
      "      <tr class=\"spacer\" style=\"height:5px\"></tr>\n",
      "                <tr class='athing' id='16896236'>\n",
      "      <td align=\"right\" valign=\"top\" class=\"title\"><span class=\"rank\">21.</span></td>      <td valign=\"top\" class=\"votelinks\"><center><a id='up_16896236' href='vote?id=16896236&amp;how=up&amp;goto=news'><div class='votearrow' title='upvote'></div></a></center></td><td class=\"title\"><a href=\"https://blog.aboutamazon.com/working-at-amazon/blind-since-birth-writing-code-at-amazon-since-2013\" class=\"storylink\">Blind since birth, writing code at Amazon since 2013</a><span class=\"sitebit comhead\"> (<a href=\"from?site=aboutamazon.com\"><span class=\"sitestr\">aboutamazon.com</span></a>)</span></td></tr><tr><td colspan=\"2\"></td><td class=\"subtext\">\n",
      "        <span class=\"score\" id=\"score_16896236\">313 points</span> by <a href=\"user?id=dominotw\" class=\"hnuser\">dominotw</a> <span class=\"age\"><a href=\"item?id=16896236\">13 hours ago</a></span> <span id=\"unv_16896236\"></span> | <a href=\"hide?id=16896236&amp;goto=news\">hide</a> | <a href=\"item?id=16896236\">108&nbsp;comments</a>              </td></tr>\n",
      "      <tr class=\"spacer\" style=\"height:5px\"></tr>\n",
      "                <tr class='athing' id='16899029'>\n",
      "      <td align=\"right\" valign=\"top\" class=\"title\"><span class=\"rank\">22.</span></td>      <td valign=\"top\" class=\"votelinks\"><center><a id='up_16899029' href='vote?id=16899029&amp;how=up&amp;goto=news'><div class='votearrow' title='upvote'></div></a></center></td><td class=\"title\"><a href=\"https://twitter.com/eventbrite/status/988175772031447040\" class=\"storylink\">Eventbrite has removed filming clause from agreement</a><span class=\"sitebit comhead\"> (<a href=\"from?site=twitter.com\"><span class=\"sitestr\">twitter.com</span></a>)</span></td></tr><tr><td colspan=\"2\"></td><td class=\"subtext\">\n",
      "        <span class=\"score\" id=\"score_16899029\">46 points</span> by <a href=\"user?id=blatherard\" class=\"hnuser\">blatherard</a> <span class=\"age\"><a href=\"item?id=16899029\">4 hours ago</a></span> <span id=\"unv_16899029\"></span> | <a href=\"hide?id=16899029&amp;goto=news\">hide</a> | <a href=\"item?id=16899029\">7&nbsp;comments</a>              </td></tr>\n",
      "      <tr class=\"spacer\" style=\"height:5px\"></tr>\n",
      "                <tr class='athing' id='16894735'>\n",
      "      <td align=\"right\" valign=\"top\" class=\"title\"><span class=\"rank\">23.</span></td>      <td valign=\"top\" class=\"votelinks\"><center><a id='up_16894735' href='vote?id=16894735&amp;how=up&amp;goto=news'><div class='votearrow' title='upvote'></div></a></center></td><td class=\"title\"><a href=\"https://productforums.google.com/forum/#!topic/gmail/jtXGmic9dkc;context-place=forum/gmail\" class=\"storylink\">My account is sending spam emails</a><span class=\"sitebit comhead\"> (<a href=\"from?site=productforums.google.com\"><span class=\"sitestr\">productforums.google.com</span></a>)</span></td></tr><tr><td colspan=\"2\"></td><td class=\"subtext\">\n",
      "        <span class=\"score\" id=\"score_16894735\">551 points</span> by <a href=\"user?id=benpink\" class=\"hnuser\">benpink</a> <span class=\"age\"><a href=\"item?id=16894735\">22 hours ago</a></span> <span id=\"unv_16894735\"></span> | <a href=\"hide?id=16894735&amp;goto=news\">hide</a> | <a href=\"item?id=16894735\">136&nbsp;comments</a>              </td></tr>\n",
      "      <tr class=\"spacer\" style=\"height:5px\"></tr>\n",
      "                <tr class='athing' id='16895559'>\n",
      "      <td align=\"right\" valign=\"top\" class=\"title\"><span class=\"rank\">24.</span></td>      <td valign=\"top\" class=\"votelinks\"><center><a id='up_16895559' href='vote?id=16895559&amp;how=up&amp;goto=news'><div class='votearrow' title='upvote'></div></a></center></td><td class=\"title\"><a href=\"https://news.northwestern.edu/stories/2018/april/artificial-intelligence-accelerates-discovery-of-metallic-glass/\" class=\"storylink\">Artificial intelligence accelerates discovery of metallic glass</a><span class=\"sitebit comhead\"> (<a href=\"from?site=northwestern.edu\"><span class=\"sitestr\">northwestern.edu</span></a>)</span></td></tr><tr><td colspan=\"2\"></td><td class=\"subtext\">\n",
      "        <span class=\"score\" id=\"score_16895559\">204 points</span> by <a href=\"user?id=rbanffy\" class=\"hnuser\">rbanffy</a> <span class=\"age\"><a href=\"item?id=16895559\">16 hours ago</a></span> <span id=\"unv_16895559\"></span> | <a href=\"hide?id=16895559&amp;goto=news\">hide</a> | <a href=\"item?id=16895559\">56&nbsp;comments</a>              </td></tr>\n",
      "      <tr class=\"spacer\" style=\"height:5px\"></tr>\n",
      "                <tr class='athing' id='16896275'>\n",
      "      <td align=\"right\" valign=\"top\" class=\"title\"><span class=\"rank\">25.</span></td>      <td valign=\"top\" class=\"votelinks\"><center><a id='up_16896275' href='vote?id=16896275&amp;how=up&amp;goto=news'><div class='votearrow' title='upvote'></div></a></center></td><td class=\"title\"><a href=\"https://arstechnica.com/cars/2018/04/experts-say-tesla-has-repeated-car-industry-mistakes-from-the-1980s/\" class=\"storylink\">Experts say Tesla has repeated car industry mistakes from the 1980s</a><span class=\"sitebit comhead\"> (<a href=\"from?site=arstechnica.com\"><span class=\"sitestr\">arstechnica.com</span></a>)</span></td></tr><tr><td colspan=\"2\"></td><td class=\"subtext\">\n",
      "        <span class=\"score\" id=\"score_16896275\">174 points</span> by <a href=\"user?id=evo_9\" class=\"hnuser\">evo_9</a> <span class=\"age\"><a href=\"item?id=16896275\">13 hours ago</a></span> <span id=\"unv_16896275\"></span> | <a href=\"hide?id=16896275&amp;goto=news\">hide</a> | <a href=\"item?id=16896275\">218&nbsp;comments</a>              </td></tr>\n",
      "      <tr class=\"spacer\" style=\"height:5px\"></tr>\n",
      "                <tr class='athing' id='16898045'>\n",
      "      <td align=\"right\" valign=\"top\" class=\"title\"><span class=\"rank\">26.</span></td>      <td valign=\"top\" class=\"votelinks\"><center><a id='up_16898045' href='vote?id=16898045&amp;how=up&amp;goto=news'><div class='votearrow' title='upvote'></div></a></center></td><td class=\"title\"><a href=\"https://www.nytimes.com/2018/04/22/business/zelle-banks-fraud.html\" class=\"storylink\">Zelle, the Banks’ Answer to Venmo, Proves Vulnerable to Fraud</a><span class=\"sitebit comhead\"> (<a href=\"from?site=nytimes.com\"><span class=\"sitestr\">nytimes.com</span></a>)</span></td></tr><tr><td colspan=\"2\"></td><td class=\"subtext\">\n",
      "        <span class=\"score\" id=\"score_16898045\">158 points</span> by <a href=\"user?id=rdhyee\" class=\"hnuser\">rdhyee</a> <span class=\"age\"><a href=\"item?id=16898045\">8 hours ago</a></span> <span id=\"unv_16898045\"></span> | <a href=\"hide?id=16898045&amp;goto=news\">hide</a> | <a href=\"item?id=16898045\">58&nbsp;comments</a>              </td></tr>\n",
      "      <tr class=\"spacer\" style=\"height:5px\"></tr>\n",
      "                <tr class='athing' id='16897690'>\n",
      "      <td align=\"right\" valign=\"top\" class=\"title\"><span class=\"rank\">27.</span></td>      <td valign=\"top\" class=\"votelinks\"><center><a id='up_16897690' href='vote?id=16897690&amp;how=up&amp;goto=news'><div class='votearrow' title='upvote'></div></a></center></td><td class=\"title\"><a href=\"https://www.theverge.com/2018/4/22/17233362/general-magic-movie-review-documentary-silicon-valley-tribeca-2018\" class=\"storylink\">General Magic is a film about the ‘90s startup that imagined the smartphone</a><span class=\"sitebit comhead\"> (<a href=\"from?site=theverge.com\"><span class=\"sitestr\">theverge.com</span></a>)</span></td></tr><tr><td colspan=\"2\"></td><td class=\"subtext\">\n",
      "        <span class=\"score\" id=\"score_16897690\">69 points</span> by <a href=\"user?id=rbanffy\" class=\"hnuser\">rbanffy</a> <span class=\"age\"><a href=\"item?id=16897690\">8 hours ago</a></span> <span id=\"unv_16897690\"></span> | <a href=\"hide?id=16897690&amp;goto=news\">hide</a> | <a href=\"item?id=16897690\">25&nbsp;comments</a>              </td></tr>\n",
      "      <tr class=\"spacer\" style=\"height:5px\"></tr>\n",
      "                <tr class='athing' id='16899218'>\n",
      "      <td align=\"right\" valign=\"top\" class=\"title\"><span class=\"rank\">28.</span></td>      <td valign=\"top\" class=\"votelinks\"><center><a id='up_16899218' href='vote?id=16899218&amp;how=up&amp;goto=news'><div class='votearrow' title='upvote'></div></a></center></td><td class=\"title\"><a href=\"https://blog.adafruit.com/2018/04/22/thoughts-on-low-latency-interrupt-handling-samd51-microchipmakes/\" class=\"storylink\" rel=\"nofollow\">Thoughts on Low Latency Interrupt Handling</a><span class=\"sitebit comhead\"> (<a href=\"from?site=adafruit.com\"><span class=\"sitestr\">adafruit.com</span></a>)</span></td></tr><tr><td colspan=\"2\"></td><td class=\"subtext\">\n",
      "        <span class=\"score\" id=\"score_16899218\">7 points</span> by <a href=\"user?id=rbanffy\" class=\"hnuser\">rbanffy</a> <span class=\"age\"><a href=\"item?id=16899218\">4 hours ago</a></span> <span id=\"unv_16899218\"></span> | <a href=\"hide?id=16899218&amp;goto=news\">hide</a> | <a href=\"item?id=16899218\">2&nbsp;comments</a>              </td></tr>\n",
      "      <tr class=\"spacer\" style=\"height:5px\"></tr>\n",
      "                <tr class='athing' id='16896396'>\n",
      "      <td align=\"right\" valign=\"top\" class=\"title\"><span class=\"rank\">29.</span></td>      <td valign=\"top\" class=\"votelinks\"><center><a id='up_16896396' href='vote?id=16896396&amp;how=up&amp;goto=news'><div class='votearrow' title='upvote'></div></a></center></td><td class=\"title\"><a href=\"https://www.eventbrite.com/support/articles/en_US/Troubleshooting/eventbrite-merchant-agreement?lg=en_US#8\" class=\"storylink\">Eventbrite UA claims right to film, distribute users events</a><span class=\"sitebit comhead\"> (<a href=\"from?site=eventbrite.com\"><span class=\"sitestr\">eventbrite.com</span></a>)</span></td></tr><tr><td colspan=\"2\"></td><td class=\"subtext\">\n",
      "        <span class=\"score\" id=\"score_16896396\">187 points</span> by <a href=\"user?id=empressplay\" class=\"hnuser\">empressplay</a> <span class=\"age\"><a href=\"item?id=16896396\">12 hours ago</a></span> <span id=\"unv_16896396\"></span> | <a href=\"hide?id=16896396&amp;goto=news\">hide</a> | <a href=\"item?id=16896396\">42&nbsp;comments</a>              </td></tr>\n",
      "      <tr class=\"spacer\" style=\"height:5px\"></tr>\n",
      "                <tr class='athing' id='16897803'>\n",
      "      <td align=\"right\" valign=\"top\" class=\"title\"><span class=\"rank\">30.</span></td>      <td valign=\"top\" class=\"votelinks\"><center><a id='up_16897803' href='vote?id=16897803&amp;how=up&amp;goto=news'><div class='votearrow' title='upvote'></div></a></center></td><td class=\"title\"><a href=\"http://progressbarosx.com\" class=\"storylink\">Show HN: Progress Bar OS X. How much % of a year/month/day has passed in menubar</a><span class=\"sitebit comhead\"> (<a href=\"from?site=progressbarosx.com\"><span class=\"sitestr\">progressbarosx.com</span></a>)</span></td></tr><tr><td colspan=\"2\"></td><td class=\"subtext\">\n",
      "        <span class=\"score\" id=\"score_16897803\">44 points</span> by <a href=\"user?id=andreyazimov\" class=\"hnuser\">andreyazimov</a> <span class=\"age\"><a href=\"item?id=16897803\">8 hours ago</a></span> <span id=\"unv_16897803\"></span> | <a href=\"hide?id=16897803&amp;goto=news\">hide</a> | <a href=\"item?id=16897803\">36&nbsp;comments</a>              </td></tr>\n",
      "      <tr class=\"spacer\" style=\"height:5px\"></tr>\n",
      "            <tr class=\"morespace\" style=\"height:10px\"></tr><tr><td colspan=\"2\"></td><td class=\"title\"><a href=\"news?p=2\" class=\"morelink\" rel=\"nofollow\">More</a></td></tr>\n",
      "  </table>\n",
      "</td></tr>\n",
      "<tr><td><img src=\"s.gif\" height=\"10\" width=\"0\"><table width=\"100%\" cellspacing=\"0\" cellpadding=\"1\"><tr><td bgcolor=\"#ff6600\"></td></tr></table><br><center><span class=\"yclinks\"><a href=\"newsguidelines.html\">Guidelines</a>\n",
      "        | <a href=\"newsfaq.html\">FAQ</a>\n",
      "        | <a href=\"mailto:hn@ycombinator.com\">Support</a>\n",
      "        | <a href=\"https://github.com/HackerNews/API\">API</a>\n",
      "        | <a href=\"security.html\">Security</a>\n",
      "        | <a href=\"lists\">Lists</a>\n",
      "        | <a href=\"bookmarklet.html\" rel=\"nofollow\">Bookmarklet</a>\n",
      "        | <a href=\"http://www.ycombinator.com/legal/\">Legal</a>\n",
      "        | <a href=\"http://www.ycombinator.com/apply/\">Apply to YC</a>\n",
      "        | <a href=\"mailto:hn@ycombinator.com\">Contact</a></span><br><br><form method=\"get\" action=\"//hn.algolia.com/\">Search:\n",
      "          <input type=\"text\" name=\"q\" value=\"\" size=\"17\" autocorrect=\"off\" spellcheck=\"false\" autocapitalize=\"off\" autocomplete=\"false\"></form>\n",
      "            </center></td></tr>\n",
      "      </table></center></body><script type='text/javascript' src='hn.js?aWzYZ4rkLUAr1wN52yaW'></script>\n",
      "  </html>\n",
      "\n"
     ]
    }
   ],
   "source": [
    "import requests\n",
    "\n",
    "# Fetch a web page\n",
    "r = requests.get(\"https://news.ycombinator.com\")\n",
    "print(r.text)"
   ]
  },
  {
   "cell_type": "code",
   "execution_count": 7,
   "metadata": {
    "scrolled": true
   },
   "outputs": [
    {
     "name": "stdout",
     "output_type": "stream",
     "text": [
      "\n",
      "            \n",
      "          \n",
      "        Hacker News\n",
      "        \n",
      "                  Hacker News\n",
      "              new | comments | show | ask | jobs | submit            \n",
      "                              login\n",
      "                          \n",
      "              \n",
      "\n",
      "              \n",
      "      1.      Bringing Objective-C to the Amiga (heap.zone)\n",
      "        40 points by Midar 2 hours ago  | hide | 20&nbsp;comments              \n",
      "      \n",
      "                \n",
      "      2.      Renting Is Throwing Money Away  Right? (affordanything.com)\n",
      "        44 points by vinnyglennon 3 hours ago  | hide | 12&nbsp;comments              \n",
      "      \n",
      "                \n",
      "      3.      You probably don't need AI/ML. You can make do with well written SQL scripts (threadreaderapp.com)\n",
      "        81 points by passenger 5 hours ago  | hide | 25&nbsp;comments              \n",
      "      \n",
      "                \n",
      "      4.      A blockchain is a specific set of choices suitable for a narrow set of use-cases (threadreaderapp.com)\n",
      "        204 points by BerislavLopac 8 hours ago  | hide | 135&nbsp;comments              \n",
      "      \n",
      "                \n",
      "      5.      Pedro Domingos on the Arms Race in Artificial Intelligence (spiegel.de)\n",
      "        44 points by imartin2k 3 hours ago  | hide | 8&nbsp;comments              \n",
      "      \n",
      "                \n",
      "      6.      Why Stanislaw Lem’s futurism deserves attention (2015) (nautil.us)\n",
      "        191 points by dnetesn 11 hours ago  | hide | 38&nbsp;comments              \n",
      "      \n",
      "                \n",
      "      7.      The Art of Picking Intel Registers (2003) (swansontec.com)\n",
      "        27 points by Tomte 4 hours ago  | hide | 9&nbsp;comments              \n",
      "      \n",
      "                \n",
      "      8.      Parsing JSON is a Minefield (seriot.ch)\n",
      "        229 points by moks 10 hours ago  | hide | 167&nbsp;comments              \n",
      "      \n",
      "                \n",
      "      9.      The limits of information (2014) (maths.org)\n",
      "        29 points by whitecream 6 hours ago  | hide | discuss              \n",
      "      \n",
      "                \n",
      "      10.      Union Types in Flow and Reason (jez.io)\n",
      "        45 points by z1mm32m4n 6 hours ago  | hide | 9&nbsp;comments              \n",
      "      \n",
      "                \n",
      "      11.      Programming in the Debugger (willcrichton.net)\n",
      "        50 points by wcrichton 8 hours ago  | hide | 27&nbsp;comments              \n",
      "      \n",
      "                \n",
      "      12.      Everyone Wants to Go Home During Extra Innings – Maybe Even the Umps (fivethirtyeight.com)\n",
      "        64 points by wglb 9 hours ago  | hide | 63&nbsp;comments              \n",
      "      \n",
      "                \n",
      "      13.      Gitlab 10.7 Released (gitlab.com)\n",
      "        224 points by jbergstroem 10 hours ago  | hide | 66&nbsp;comments              \n",
      "      \n",
      "                \n",
      "      14.      The Categories Were Made for Man, Not Man for the Categories (slatestarcodex.com)\n",
      "        23 points by gmays 1 hour ago  | hide | 9&nbsp;comments              \n",
      "      \n",
      "                \n",
      "      15.      Libraries Can Be More Than Just Books (2017) (nytimes.com)\n",
      "        32 points by Tomte 8 hours ago  | hide | 12&nbsp;comments              \n",
      "      \n",
      "                \n",
      "      16.      Solved: A Decades-Old Ansel Adams Mystery (atlasobscura.com)\n",
      "        43 points by sverige 9 hours ago  | hide | 1&nbsp;comment              \n",
      "      \n",
      "                \n",
      "      17.      Memory, attention, sequences (towardsdatascience.com)\n",
      "        16 points by jonbaer 5 hours ago  | hide | discuss              \n",
      "      \n",
      "                \n",
      "      18.      On incomplete HTTP reads and the requests library in Python (petrzemek.net)\n",
      "        59 points by s3rvac 11 hours ago  | hide | 18&nbsp;comments              \n",
      "      \n",
      "                \n",
      "      19.      Why Invest in Cities? There's Always Another Boise (bloomberg.com)\n",
      "        102 points by jseliger 7 hours ago  | hide | 161&nbsp;comments              \n",
      "      \n",
      "                \n",
      "      20.      After Facebook scrutiny, is Google next? (phys.org)\n",
      "        248 points by dnetesn 11 hours ago  | hide | 208&nbsp;comments              \n",
      "      \n",
      "                \n",
      "      21.      Blind since birth, writing code at Amazon since 2013 (aboutamazon.com)\n",
      "        313 points by dominotw 13 hours ago  | hide | 108&nbsp;comments              \n",
      "      \n",
      "                \n",
      "      22.      Eventbrite has removed filming clause from agreement (twitter.com)\n",
      "        46 points by blatherard 4 hours ago  | hide | 7&nbsp;comments              \n",
      "      \n",
      "                \n",
      "      23.      My account is sending spam emails (productforums.google.com)\n",
      "        551 points by benpink 22 hours ago  | hide | 136&nbsp;comments              \n",
      "      \n",
      "                \n",
      "      24.      Artificial intelligence accelerates discovery of metallic glass (northwestern.edu)\n",
      "        204 points by rbanffy 16 hours ago  | hide | 56&nbsp;comments              \n",
      "      \n",
      "                \n",
      "      25.      Experts say Tesla has repeated car industry mistakes from the 1980s (arstechnica.com)\n",
      "        174 points by evo_9 13 hours ago  | hide | 218&nbsp;comments              \n",
      "      \n",
      "                \n",
      "      26.      Zelle, the Banks’ Answer to Venmo, Proves Vulnerable to Fraud (nytimes.com)\n",
      "        158 points by rdhyee 8 hours ago  | hide | 58&nbsp;comments              \n",
      "      \n",
      "                \n",
      "      27.      General Magic is a film about the ‘90s startup that imagined the smartphone (theverge.com)\n",
      "        69 points by rbanffy 8 hours ago  | hide | 25&nbsp;comments              \n",
      "      \n",
      "                \n",
      "      28.      Thoughts on Low Latency Interrupt Handling (adafruit.com)\n",
      "        7 points by rbanffy 4 hours ago  | hide | 2&nbsp;comments              \n",
      "      \n",
      "                \n",
      "      29.      Eventbrite UA claims right to film, distribute users events (eventbrite.com)\n",
      "        187 points by empressplay 12 hours ago  | hide | 42&nbsp;comments              \n",
      "      \n",
      "                \n",
      "      30.      Show HN: Progress Bar OS X. How much % of a year/month/day has passed in menubar (progressbarosx.com)\n",
      "        44 points by andreyazimov 8 hours ago  | hide | 36&nbsp;comments              \n",
      "      \n",
      "            More\n",
      "  \n",
      "\n",
      "Guidelines\n",
      "        | FAQ\n",
      "        | Support\n",
      "        | API\n",
      "        | Security\n",
      "        | Lists\n",
      "        | Bookmarklet\n",
      "        | Legal\n",
      "        | Apply to YC\n",
      "        | ContactSearch:\n",
      "          \n",
      "            \n",
      "      \n",
      "  \n",
      "\n"
     ]
    }
   ],
   "source": [
    "import re\n",
    "\n",
    "# Remove HTML tags using RegEx\n",
    "pattern = re.compile(r'<.*?>')  # tags look like <...>\n",
    "print(pattern.sub('', r.text))  # replace them with blank"
   ]
  },
  {
   "cell_type": "code",
   "execution_count": 8,
   "metadata": {
    "scrolled": true
   },
   "outputs": [
    {
     "name": "stdout",
     "output_type": "stream",
     "text": [
      "\n",
      "            \n",
      "          \n",
      "        Hacker News\n",
      "        \n",
      "                  Hacker News\n",
      "              new | comments | show | ask | jobs | submit            \n",
      "                              login\n",
      "                          \n",
      "              \n",
      "\n",
      "              \n",
      "      1.      Bringing Objective-C to the Amiga (heap.zone)\n",
      "        40 points by Midar 2 hours ago  | hide | 20 comments              \n",
      "      \n",
      "                \n",
      "      2.      Renting Is Throwing Money Away  Right? (affordanything.com)\n",
      "        44 points by vinnyglennon 3 hours ago  | hide | 12 comments              \n",
      "      \n",
      "                \n",
      "      3.      You probably don't need AI/ML. You can make do with well written SQL scripts (threadreaderapp.com)\n",
      "        81 points by passenger 5 hours ago  | hide | 25 comments              \n",
      "      \n",
      "                \n",
      "      4.      A blockchain is a specific set of choices suitable for a narrow set of use-cases (threadreaderapp.com)\n",
      "        204 points by BerislavLopac 8 hours ago  | hide | 135 comments              \n",
      "      \n",
      "                \n",
      "      5.      Pedro Domingos on the Arms Race in Artificial Intelligence (spiegel.de)\n",
      "        44 points by imartin2k 3 hours ago  | hide | 8 comments              \n",
      "      \n",
      "                \n",
      "      6.      Why Stanislaw Lem’s futurism deserves attention (2015) (nautil.us)\n",
      "        191 points by dnetesn 11 hours ago  | hide | 38 comments              \n",
      "      \n",
      "                \n",
      "      7.      The Art of Picking Intel Registers (2003) (swansontec.com)\n",
      "        27 points by Tomte 4 hours ago  | hide | 9 comments              \n",
      "      \n",
      "                \n",
      "      8.      Parsing JSON is a Minefield (seriot.ch)\n",
      "        229 points by moks 10 hours ago  | hide | 167 comments              \n",
      "      \n",
      "                \n",
      "      9.      The limits of information (2014) (maths.org)\n",
      "        29 points by whitecream 6 hours ago  | hide | discuss              \n",
      "      \n",
      "                \n",
      "      10.      Union Types in Flow and Reason (jez.io)\n",
      "        45 points by z1mm32m4n 6 hours ago  | hide | 9 comments              \n",
      "      \n",
      "                \n",
      "      11.      Programming in the Debugger (willcrichton.net)\n",
      "        50 points by wcrichton 8 hours ago  | hide | 27 comments              \n",
      "      \n",
      "                \n",
      "      12.      Everyone Wants to Go Home During Extra Innings – Maybe Even the Umps (fivethirtyeight.com)\n",
      "        64 points by wglb 9 hours ago  | hide | 63 comments              \n",
      "      \n",
      "                \n",
      "      13.      Gitlab 10.7 Released (gitlab.com)\n",
      "        224 points by jbergstroem 10 hours ago  | hide | 66 comments              \n",
      "      \n",
      "                \n",
      "      14.      The Categories Were Made for Man, Not Man for the Categories (slatestarcodex.com)\n",
      "        23 points by gmays 1 hour ago  | hide | 9 comments              \n",
      "      \n",
      "                \n",
      "      15.      Libraries Can Be More Than Just Books (2017) (nytimes.com)\n",
      "        32 points by Tomte 8 hours ago  | hide | 12 comments              \n",
      "      \n",
      "                \n",
      "      16.      Solved: A Decades-Old Ansel Adams Mystery (atlasobscura.com)\n",
      "        43 points by sverige 9 hours ago  | hide | 1 comment              \n",
      "      \n",
      "                \n",
      "      17.      Memory, attention, sequences (towardsdatascience.com)\n",
      "        16 points by jonbaer 5 hours ago  | hide | discuss              \n",
      "      \n",
      "                \n",
      "      18.      On incomplete HTTP reads and the requests library in Python (petrzemek.net)\n",
      "        59 points by s3rvac 11 hours ago  | hide | 18 comments              \n",
      "      \n",
      "                \n",
      "      19.      Why Invest in Cities? There's Always Another Boise (bloomberg.com)\n",
      "        102 points by jseliger 7 hours ago  | hide | 161 comments              \n",
      "      \n",
      "                \n",
      "      20.      After Facebook scrutiny, is Google next? (phys.org)\n",
      "        248 points by dnetesn 11 hours ago  | hide | 208 comments              \n",
      "      \n",
      "                \n",
      "      21.      Blind since birth, writing code at Amazon since 2013 (aboutamazon.com)\n",
      "        313 points by dominotw 13 hours ago  | hide | 108 comments              \n",
      "      \n",
      "                \n",
      "      22.      Eventbrite has removed filming clause from agreement (twitter.com)\n",
      "        46 points by blatherard 4 hours ago  | hide | 7 comments              \n",
      "      \n",
      "                \n",
      "      23.      My account is sending spam emails (productforums.google.com)\n",
      "        551 points by benpink 22 hours ago  | hide | 136 comments              \n",
      "      \n",
      "                \n",
      "      24.      Artificial intelligence accelerates discovery of metallic glass (northwestern.edu)\n",
      "        204 points by rbanffy 16 hours ago  | hide | 56 comments              \n",
      "      \n",
      "                \n",
      "      25.      Experts say Tesla has repeated car industry mistakes from the 1980s (arstechnica.com)\n",
      "        174 points by evo_9 13 hours ago  | hide | 218 comments              \n",
      "      \n",
      "                \n",
      "      26.      Zelle, the Banks’ Answer to Venmo, Proves Vulnerable to Fraud (nytimes.com)\n",
      "        158 points by rdhyee 8 hours ago  | hide | 58 comments              \n",
      "      \n",
      "                \n",
      "      27.      General Magic is a film about the ‘90s startup that imagined the smartphone (theverge.com)\n",
      "        69 points by rbanffy 8 hours ago  | hide | 25 comments              \n",
      "      \n",
      "                \n",
      "      28.      Thoughts on Low Latency Interrupt Handling (adafruit.com)\n",
      "        7 points by rbanffy 4 hours ago  | hide | 2 comments              \n",
      "      \n",
      "                \n",
      "      29.      Eventbrite UA claims right to film, distribute users events (eventbrite.com)\n",
      "        187 points by empressplay 12 hours ago  | hide | 42 comments              \n",
      "      \n",
      "                \n",
      "      30.      Show HN: Progress Bar OS X. How much % of a year/month/day has passed in menubar (progressbarosx.com)\n",
      "        44 points by andreyazimov 8 hours ago  | hide | 36 comments              \n",
      "      \n",
      "            More\n",
      "  \n",
      "\n",
      "Guidelines\n",
      "        | FAQ\n",
      "        | Support\n",
      "        | API\n",
      "        | Security\n",
      "        | Lists\n",
      "        | Bookmarklet\n",
      "        | Legal\n",
      "        | Apply to YC\n",
      "        | ContactSearch:\n",
      "          \n",
      "            \n",
      "      \n",
      "  \n",
      "\n"
     ]
    }
   ],
   "source": [
    "from bs4 import BeautifulSoup\n",
    "\n",
    "# Remove HTML tags using Beautiful Soup library\n",
    "soup = BeautifulSoup(r.text, \"html5lib\")\n",
    "print(soup.get_text())"
   ]
  },
  {
   "cell_type": "code",
   "execution_count": 9,
   "metadata": {},
   "outputs": [
    {
     "data": {
      "text/plain": [
       "'\\n# Find all course summaries\\nsummaries = soup.find_all(\"div\", class_=\"course-summary-card\")\\nsummaries[0]\\n'"
      ]
     },
     "execution_count": 9,
     "metadata": {},
     "output_type": "execute_result"
    }
   ],
   "source": [
    "\"\"\"\n",
    "# Find all course summaries\n",
    "summaries = soup.find_all(\"div\", class_=\"course-summary-card\")\n",
    "summaries[0]\n",
    "\"\"\""
   ]
  },
  {
   "cell_type": "code",
   "execution_count": 10,
   "metadata": {
    "scrolled": true
   },
   "outputs": [
    {
     "data": {
      "text/plain": [
       "<tr class=\"athing\" id=\"16899658\">\n",
       "      <td align=\"right\" class=\"title\" valign=\"top\"><span class=\"rank\">1.</span></td>      <td class=\"votelinks\" valign=\"top\"><center><a href=\"vote?id=16899658&amp;how=up&amp;goto=news\" id=\"up_16899658\"><div class=\"votearrow\" title=\"upvote\"></div></a></center></td><td class=\"title\"><a class=\"storylink\" href=\"https://heap.zone/blog/?76\">Bringing Objective-C to the Amiga</a><span class=\"sitebit comhead\"> (<a href=\"from?site=heap.zone\"><span class=\"sitestr\">heap.zone</span></a>)</span></td></tr>"
      ]
     },
     "execution_count": 10,
     "metadata": {},
     "output_type": "execute_result"
    }
   ],
   "source": [
    "# Find all articles\n",
    "summaries = soup.find_all(\"tr\", class_=\"athing\")\n",
    "summaries[0]"
   ]
  },
  {
   "cell_type": "code",
   "execution_count": 11,
   "metadata": {},
   "outputs": [
    {
     "data": {
      "text/plain": [
       "'\\n# Extract title\\nsummaries[0].select_one(\"h3 a\").get_text().strip()\\n'"
      ]
     },
     "execution_count": 11,
     "metadata": {},
     "output_type": "execute_result"
    }
   ],
   "source": [
    "\"\"\"\n",
    "# Extract title\n",
    "summaries[0].select_one(\"h3 a\").get_text().strip()\n",
    "\"\"\""
   ]
  },
  {
   "cell_type": "code",
   "execution_count": 12,
   "metadata": {},
   "outputs": [
    {
     "data": {
      "text/plain": [
       "'Bringing Objective-C to the Amiga'"
      ]
     },
     "execution_count": 12,
     "metadata": {},
     "output_type": "execute_result"
    }
   ],
   "source": [
    "# Extract title\n",
    "summaries[0].find(\"a\", class_=\"storylink\").get_text().strip()"
   ]
  },
  {
   "cell_type": "code",
   "execution_count": 13,
   "metadata": {},
   "outputs": [
    {
     "data": {
      "text/plain": [
       "'\\n# Extract description\\nsummaries[0].select_one(\"div[data-course-short-summary]\").get_text().strip()\\n'"
      ]
     },
     "execution_count": 13,
     "metadata": {},
     "output_type": "execute_result"
    }
   ],
   "source": [
    "\"\"\"\n",
    "# Extract description\n",
    "summaries[0].select_one(\"div[data-course-short-summary]\").get_text().strip()\n",
    "\"\"\""
   ]
  },
  {
   "cell_type": "code",
   "execution_count": 14,
   "metadata": {},
   "outputs": [
    {
     "data": {
      "text/plain": [
       "'\\n# Find all course summaries, extract title and description\\ncourses = []\\nsummaries = soup.find_all(\"div\", class_=\"course-summary-card\")\\nfor summary in summaries:\\n    title = summary.select_one(\"h3 a\").get_text().strip()\\n    description = summary.select_one(\"div[data-course-short-summary]\").get_text().strip()\\n    courses.append((title, description))\\n\\nprint(len(courses), \"course summaries found. Sample:\")\\nprint(courses[0][0])\\nprint(courses[0][1])\\n'"
      ]
     },
     "execution_count": 14,
     "metadata": {},
     "output_type": "execute_result"
    }
   ],
   "source": [
    "\n",
    "\"\"\"\n",
    "# Find all course summaries, extract title and description\n",
    "courses = []\n",
    "summaries = soup.find_all(\"div\", class_=\"course-summary-card\")\n",
    "for summary in summaries:\n",
    "    title = summary.select_one(\"h3 a\").get_text().strip()\n",
    "    description = summary.select_one(\"div[data-course-short-summary]\").get_text().strip()\n",
    "    courses.append((title, description))\n",
    "\n",
    "print(len(courses), \"course summaries found. Sample:\")\n",
    "print(courses[0][0])\n",
    "print(courses[0][1])\n",
    "\"\"\""
   ]
  },
  {
   "cell_type": "code",
   "execution_count": 15,
   "metadata": {},
   "outputs": [
    {
     "name": "stdout",
     "output_type": "stream",
     "text": [
      "30 Article summaries found. Sample:\n",
      "Bringing Objective-C to the Amiga\n"
     ]
    }
   ],
   "source": [
    "# Find all articles, extract titles\n",
    "articles = []\n",
    "summaries = soup.find_all(\"tr\", class_=\"athing\")\n",
    "for summary in summaries:\n",
    "    title = summary.find(\"a\", class_=\"storylink\").get_text().strip()\n",
    "    articles.append((title))\n",
    "\n",
    "print(len(articles), \"Article summaries found. Sample:\")\n",
    "print(articles[0])"
   ]
  },
  {
   "cell_type": "markdown",
   "metadata": {
    "collapsed": true
   },
   "source": [
    "## Normalization"
   ]
  },
  {
   "cell_type": "markdown",
   "metadata": {},
   "source": [
    "### Case Normalization"
   ]
  },
  {
   "cell_type": "code",
   "execution_count": 16,
   "metadata": {},
   "outputs": [
    {
     "name": "stdout",
     "output_type": "stream",
     "text": [
      "The first time you see The Second Renaissance it may look boring. Look at it at least twice and definitely watch part 2. It will change your view of the matrix. Are the human people the ones who started the war ? Is AI a bad thing ?\n"
     ]
    }
   ],
   "source": [
    "# Sample text\n",
    "text = \"The first time you see The Second Renaissance it may look boring. Look at it at least twice and definitely watch part 2. It will change your view of the matrix. Are the human people the ones who started the war ? Is AI a bad thing ?\"\n",
    "print(text)"
   ]
  },
  {
   "cell_type": "code",
   "execution_count": 17,
   "metadata": {},
   "outputs": [
    {
     "name": "stdout",
     "output_type": "stream",
     "text": [
      "the first time you see the second renaissance it may look boring. look at it at least twice and definitely watch part 2. it will change your view of the matrix. are the human people the ones who started the war ? is ai a bad thing ?\n"
     ]
    }
   ],
   "source": [
    "# Convert to lowercase\n",
    "text = text.lower() \n",
    "print(text)"
   ]
  },
  {
   "cell_type": "markdown",
   "metadata": {},
   "source": [
    "### Punctuation Removal"
   ]
  },
  {
   "cell_type": "code",
   "execution_count": 18,
   "metadata": {},
   "outputs": [
    {
     "name": "stdout",
     "output_type": "stream",
     "text": [
      "the first time you see the second renaissance it may look boring  look at it at least twice and definitely watch part 2  it will change your view of the matrix  are the human people the ones who started the war   is ai a bad thing  \n"
     ]
    }
   ],
   "source": [
    "import re\n",
    "\n",
    "# Remove punctuation characters\n",
    "text = re.sub(r\"[^a-zA-Z0-9]\", \" \", text) \n",
    "print(text)"
   ]
  },
  {
   "cell_type": "markdown",
   "metadata": {},
   "source": [
    "## Tokenization"
   ]
  },
  {
   "cell_type": "code",
   "execution_count": 19,
   "metadata": {},
   "outputs": [
    {
     "name": "stdout",
     "output_type": "stream",
     "text": [
      "['the', 'first', 'time', 'you', 'see', 'the', 'second', 'renaissance', 'it', 'may', 'look', 'boring', 'look', 'at', 'it', 'at', 'least', 'twice', 'and', 'definitely', 'watch', 'part', '2', 'it', 'will', 'change', 'your', 'view', 'of', 'the', 'matrix', 'are', 'the', 'human', 'people', 'the', 'ones', 'who', 'started', 'the', 'war', 'is', 'ai', 'a', 'bad', 'thing']\n"
     ]
    }
   ],
   "source": [
    "# Split text into tokens (words)\n",
    "words = text.split()\n",
    "print(words)"
   ]
  },
  {
   "cell_type": "markdown",
   "metadata": {},
   "source": [
    "### NLTK: Natural Language ToolKit"
   ]
  },
  {
   "cell_type": "code",
   "execution_count": 20,
   "metadata": {},
   "outputs": [
    {
     "name": "stdout",
     "output_type": "stream",
     "text": [
      "Dr. Smith graduated from the University of Washington. He later started an analytics firm called Lux, which catered to enterprise customers.\n"
     ]
    }
   ],
   "source": [
    "# Another sample text\n",
    "text = \"Dr. Smith graduated from the University of Washington. He later started an analytics firm called Lux, which catered to enterprise customers.\"\n",
    "print(text)"
   ]
  },
  {
   "cell_type": "code",
   "execution_count": 21,
   "metadata": {},
   "outputs": [
    {
     "name": "stdout",
     "output_type": "stream",
     "text": [
      "['Dr.', 'Smith', 'graduated', 'from', 'the', 'University', 'of', 'Washington', '.', 'He', 'later', 'started', 'an', 'analytics', 'firm', 'called', 'Lux', ',', 'which', 'catered', 'to', 'enterprise', 'customers', '.']\n"
     ]
    }
   ],
   "source": [
    "from nltk.tokenize import word_tokenize\n",
    "\n",
    "# Split text into words using NLTK\n",
    "words = word_tokenize(text)\n",
    "print(words)"
   ]
  },
  {
   "cell_type": "code",
   "execution_count": 22,
   "metadata": {},
   "outputs": [
    {
     "name": "stdout",
     "output_type": "stream",
     "text": [
      "['Dr. Smith graduated from the University of Washington.', 'He later started an analytics firm called Lux, which catered to enterprise customers.']\n"
     ]
    }
   ],
   "source": [
    "from nltk.tokenize import sent_tokenize\n",
    "\n",
    "# Split text into sentences\n",
    "sentences = sent_tokenize(text)\n",
    "print(sentences)"
   ]
  },
  {
   "cell_type": "code",
   "execution_count": 23,
   "metadata": {},
   "outputs": [
    {
     "name": "stdout",
     "output_type": "stream",
     "text": [
      "['i', 'me', 'my', 'myself', 'we', 'our', 'ours', 'ourselves', 'you', \"you're\", \"you've\", \"you'll\", \"you'd\", 'your', 'yours', 'yourself', 'yourselves', 'he', 'him', 'his', 'himself', 'she', \"she's\", 'her', 'hers', 'herself', 'it', \"it's\", 'its', 'itself', 'they', 'them', 'their', 'theirs', 'themselves', 'what', 'which', 'who', 'whom', 'this', 'that', \"that'll\", 'these', 'those', 'am', 'is', 'are', 'was', 'were', 'be', 'been', 'being', 'have', 'has', 'had', 'having', 'do', 'does', 'did', 'doing', 'a', 'an', 'the', 'and', 'but', 'if', 'or', 'because', 'as', 'until', 'while', 'of', 'at', 'by', 'for', 'with', 'about', 'against', 'between', 'into', 'through', 'during', 'before', 'after', 'above', 'below', 'to', 'from', 'up', 'down', 'in', 'out', 'on', 'off', 'over', 'under', 'again', 'further', 'then', 'once', 'here', 'there', 'when', 'where', 'why', 'how', 'all', 'any', 'both', 'each', 'few', 'more', 'most', 'other', 'some', 'such', 'no', 'nor', 'not', 'only', 'own', 'same', 'so', 'than', 'too', 'very', 's', 't', 'can', 'will', 'just', 'don', \"don't\", 'should', \"should've\", 'now', 'd', 'll', 'm', 'o', 're', 've', 'y', 'ain', 'aren', \"aren't\", 'couldn', \"couldn't\", 'didn', \"didn't\", 'doesn', \"doesn't\", 'hadn', \"hadn't\", 'hasn', \"hasn't\", 'haven', \"haven't\", 'isn', \"isn't\", 'ma', 'mightn', \"mightn't\", 'mustn', \"mustn't\", 'needn', \"needn't\", 'shan', \"shan't\", 'shouldn', \"shouldn't\", 'wasn', \"wasn't\", 'weren', \"weren't\", 'won', \"won't\", 'wouldn', \"wouldn't\"]\n"
     ]
    }
   ],
   "source": [
    "# List stop words\n",
    "from nltk.corpus import stopwords\n",
    "print(stopwords.words(\"english\"))"
   ]
  },
  {
   "cell_type": "code",
   "execution_count": 24,
   "metadata": {},
   "outputs": [
    {
     "name": "stdout",
     "output_type": "stream",
     "text": [
      "['the', 'first', 'time', 'you', 'see', 'the', 'second', 'renaissance', 'it', 'may', 'look', 'boring', 'look', 'at', 'it', 'at', 'least', 'twice', 'and', 'definitely', 'watch', 'part', '2', 'it', 'will', 'change', 'your', 'view', 'of', 'the', 'matrix', 'are', 'the', 'human', 'people', 'the', 'ones', 'who', 'started', 'the', 'war', 'is', 'ai', 'a', 'bad', 'thing']\n"
     ]
    }
   ],
   "source": [
    "# Reset text\n",
    "text = \"The first time you see The Second Renaissance it may look boring. Look at it at least twice and definitely watch part 2. It will change your view of the matrix. Are the human people the ones who started the war ? Is AI a bad thing ?\"\n",
    "\n",
    "# Normalize it\n",
    "text = re.sub(r\"[^a-zA-Z0-9]\", \" \", text.lower())\n",
    "\n",
    "# Tokenize it\n",
    "words = text.split()\n",
    "print(words)"
   ]
  },
  {
   "cell_type": "code",
   "execution_count": 25,
   "metadata": {},
   "outputs": [
    {
     "name": "stdout",
     "output_type": "stream",
     "text": [
      "['first', 'time', 'see', 'second', 'renaissance', 'may', 'look', 'boring', 'look', 'least', 'twice', 'definitely', 'watch', 'part', '2', 'change', 'view', 'matrix', 'human', 'people', 'ones', 'started', 'war', 'ai', 'bad', 'thing']\n"
     ]
    }
   ],
   "source": [
    "# Remove stop words\n",
    "words = [w for w in words if w not in stopwords.words(\"english\")]\n",
    "print(words)"
   ]
  },
  {
   "cell_type": "markdown",
   "metadata": {},
   "source": [
    "## Part-of-Speech Tagging"
   ]
  },
  {
   "cell_type": "code",
   "execution_count": 26,
   "metadata": {},
   "outputs": [
    {
     "data": {
      "text/plain": [
       "[('I', 'PRP'),\n",
       " ('always', 'RB'),\n",
       " ('lie', 'VBP'),\n",
       " ('down', 'RP'),\n",
       " ('to', 'TO'),\n",
       " ('tell', 'VB'),\n",
       " ('a', 'DT'),\n",
       " ('lie', 'NN'),\n",
       " ('.', '.')]"
      ]
     },
     "execution_count": 26,
     "metadata": {},
     "output_type": "execute_result"
    }
   ],
   "source": [
    "from nltk import pos_tag\n",
    "\n",
    "# Tag parts of speech (PoS)\n",
    "sentence = word_tokenize(\"I always lie down to tell a lie.\")\n",
    "pos_tag(sentence)"
   ]
  },
  {
   "cell_type": "markdown",
   "metadata": {},
   "source": [
    "### Sentence Parsing"
   ]
  },
  {
   "cell_type": "code",
   "execution_count": 27,
   "metadata": {},
   "outputs": [
    {
     "name": "stdout",
     "output_type": "stream",
     "text": [
      "(S\n",
      "  (NP I)\n",
      "  (VP\n",
      "    (VP (V shot) (NP (Det an) (N elephant)))\n",
      "    (PP (P in) (NP (Det my) (N pajamas)))))\n",
      "(S\n",
      "  (NP I)\n",
      "  (VP\n",
      "    (V shot)\n",
      "    (NP (Det an) (N elephant) (PP (P in) (NP (Det my) (N pajamas))))))\n"
     ]
    }
   ],
   "source": [
    "import nltk\n",
    "\n",
    "# Define a custom grammar\n",
    "my_grammar = nltk.CFG.fromstring(\"\"\"\n",
    "S -> NP VP\n",
    "PP -> P NP\n",
    "NP -> Det N | Det N PP | 'I'\n",
    "VP -> V NP | VP PP\n",
    "Det -> 'an' | 'my'\n",
    "N -> 'elephant' | 'pajamas'\n",
    "V -> 'shot'\n",
    "P -> 'in'\n",
    "\"\"\")\n",
    "parser = nltk.ChartParser(my_grammar)\n",
    "\n",
    "# Parse a sentence\n",
    "sentence = word_tokenize(\"I shot an elephant in my pajamas\")\n",
    "for tree in parser.parse(sentence):\n",
    "    print(tree)"
   ]
  },
  {
   "cell_type": "code",
   "execution_count": 28,
   "metadata": {},
   "outputs": [
    {
     "data": {
      "text/plain": [
       "'noun, common, singular or mass'"
      ]
     },
     "execution_count": 28,
     "metadata": {},
     "output_type": "execute_result"
    }
   ],
   "source": [
    "# checking the tags\n",
    "from nltk.data import load\n",
    "tagdict = load('help/tagsets/upenn_tagset.pickle')\n",
    "tagdict['NN'][0]"
   ]
  },
  {
   "cell_type": "code",
   "execution_count": 29,
   "metadata": {},
   "outputs": [
    {
     "data": {
      "image/png": "[encoded data removed]",
      "text/plain": [
       "Tree('S', [Tree('NP', ['I']), Tree('VP', [Tree('VP', [Tree('V', ['shot']), Tree('NP', [Tree('Det', ['an']), Tree('N', ['elephant'])])]), Tree('PP', [Tree('P', ['in']), Tree('NP', [Tree('Det', ['my']), Tree('N', ['pajamas'])])])])])"
      ]
     },
     "metadata": {},
     "output_type": "display_data"
    },
    {
     "data": {
      "image/png": "[encoded data removed]",
      "text/plain": [
       "Tree('S', [Tree('NP', ['I']), Tree('VP', [Tree('V', ['shot']), Tree('NP', [Tree('Det', ['an']), Tree('N', ['elephant']), Tree('PP', [Tree('P', ['in']), Tree('NP', [Tree('Det', ['my']), Tree('N', ['pajamas'])])])])])])"
      ]
     },
     "metadata": {},
     "output_type": "display_data"
    }
   ],
   "source": [
    "import IPython  # for displaying parse trees inline\n",
    "\n",
    "# Visualize parse trees\n",
    "for tree in parser.parse(sentence):\n",
    "    IPython.display.display(tree)  # instead of tree.draw()"
   ]
  },
  {
   "cell_type": "code",
   "execution_count": 30,
   "metadata": {},
   "outputs": [
    {
     "data": {
      "image/png": "[encoded data removed]",
      "text/plain": [
       "Tree('S', [Tree('PERSON', [('Antonio', 'NNP')]), ('joined', 'VBD'), Tree('ORGANIZATION', [('Udacity', 'NNP'), ('Inc.', 'NNP')]), ('in', 'IN'), Tree('GPE', [('California', 'NNP')]), ('.', '.')])"
      ]
     },
     "metadata": {},
     "output_type": "display_data"
    }
   ],
   "source": [
    "from nltk import pos_tag, ne_chunk\n",
    "from nltk.tokenize import word_tokenize\n",
    "\n",
    "# Recognize named entities in a tagged sentence\n",
    "tree = ne_chunk(pos_tag(word_tokenize(\"Antonio joined Udacity Inc. in California.\")))\n",
    "IPython.display.display(tree)"
   ]
  },
  {
   "cell_type": "markdown",
   "metadata": {},
   "source": [
    "## Stemming & Lemmatization\n",
    "\n",
    "### Stemming"
   ]
  },
  {
   "cell_type": "code",
   "execution_count": 31,
   "metadata": {},
   "outputs": [
    {
     "name": "stdout",
     "output_type": "stream",
     "text": [
      "['first', 'time', 'see', 'second', 'renaiss', 'may', 'look', 'bore', 'look', 'least', 'twice', 'definit', 'watch', 'part', '2', 'chang', 'view', 'matrix', 'human', 'peopl', 'one', 'start', 'war', 'ai', 'bad', 'thing']\n"
     ]
    }
   ],
   "source": [
    "from nltk.stem.porter import PorterStemmer\n",
    "\n",
    "# Reduce words to their stems\n",
    "stemmed = [PorterStemmer().stem(w) for w in words]\n",
    "print(stemmed)"
   ]
  },
  {
   "cell_type": "markdown",
   "metadata": {},
   "source": [
    "### Lemmatization"
   ]
  },
  {
   "cell_type": "code",
   "execution_count": 32,
   "metadata": {},
   "outputs": [
    {
     "name": "stdout",
     "output_type": "stream",
     "text": [
      "['first', 'time', 'see', 'second', 'renaissance', 'may', 'look', 'boring', 'look', 'least', 'twice', 'definitely', 'watch', 'part', '2', 'change', 'view', 'matrix', 'human', 'people', 'one', 'started', 'war', 'ai', 'bad', 'thing']\n"
     ]
    }
   ],
   "source": [
    "from nltk.stem.wordnet import WordNetLemmatizer\n",
    "\n",
    "# Reduce words to their root form\n",
    "lemmed = [WordNetLemmatizer().lemmatize(w) for w in words]\n",
    "print(lemmed)"
   ]
  },
  {
   "cell_type": "code",
   "execution_count": 33,
   "metadata": {},
   "outputs": [
    {
     "name": "stdout",
     "output_type": "stream",
     "text": [
      "['first', 'time', 'see', 'second', 'renaissance', 'may', 'look', 'bore', 'look', 'least', 'twice', 'definitely', 'watch', 'part', '2', 'change', 'view', 'matrix', 'human', 'people', 'one', 'start', 'war', 'ai', 'bad', 'thing']\n"
     ]
    }
   ],
   "source": [
    "# Lemmatize verbs by specifying pos\n",
    "lemmed = [WordNetLemmatizer().lemmatize(w, pos='v') for w in lemmed] # The dafault is only for nouns, by putting pos='v', verbs will be converted as well/\n",
    "print(lemmed)"
   ]
  },
  {
   "cell_type": "code",
   "execution_count": null,
   "metadata": {
    "collapsed": true
   },
   "outputs": [],
   "source": []
  }
 ],
 "metadata": {
  "kernelspec": {
   "display_name": "Python 3",
   "language": "python",
   "name": "python3"
  },
  "language_info": {
   "codemirror_mode": {
    "name": "ipython",
    "version": 3
   },
   "file_extension": ".py",
   "mimetype": "text/x-python",
   "name": "python",
   "nbconvert_exporter": "python",
   "pygments_lexer": "ipython3",
   "version": "3.6.7"
  }
 },
 "nbformat": 4,
 "nbformat_minor": 2
}
